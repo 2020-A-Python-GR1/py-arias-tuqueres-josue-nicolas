{
 "cells": [
  {
   "cell_type": "markdown",
   "metadata": {},
   "source": [
    "<h1 style=\"text-align: center\">EXAMEN SEGUNDO BIMESTRE</h1>"
   ]
  },
  {
   "cell_type": "code",
   "execution_count": 123,
   "metadata": {},
   "outputs": [],
   "source": [
    "import pandas as pd\n",
    "import numpy as np\n",
    "from io import StringIO "
   ]
  },
  {
   "cell_type": "markdown",
   "metadata": {},
   "source": [
    "<h3>1) Crea un Dataframe de 10 registros y 6 columnas y consigue las 5 primeros y los 5 ultimos registros</h3>"
   ]
  },
  {
   "cell_type": "code",
   "execution_count": 124,
   "metadata": {},
   "outputs": [
    {
     "name": "stdout",
     "output_type": "stream",
     "text": [
      "PRIMEROS 5\n",
      "    1   2   3   4   5   6\n",
      "0  41  95   8  30  99  96\n",
      "1  32   7  90  42  59  16\n",
      "2  44  15  24  22  33  31\n",
      "3  40   2  74  54  85  52\n",
      "4  91  92  71  89  30  48\n",
      "ÚLTIMOS 5\n",
      "    1   2   3   4   5   6\n",
      "5  26  38  49   7   8  56\n",
      "6  54  22  20  55  41  74\n",
      "7  48  40  49  41  60  25\n",
      "8  55  21  31  43  60  92\n",
      "9  63  49  32  91  71  85\n"
     ]
    }
   ],
   "source": [
    "df = pd.DataFrame(np.random.randint(0,100,size=(10, 6)), columns=list('123456'))\n",
    "\n",
    "print(\"PRIMEROS 5\")\n",
    "print(df.head(5))\n",
    "\n",
    "print(\"ÚLTIMOS 5\")\n",
    "print(df.tail(5))\n"
   ]
  },
  {
   "cell_type": "markdown",
   "metadata": {},
   "source": [
    "<h3>2) Crear un dataframe pasando un arreglo de numpy de 6 x 4 con una fecha como indice y con columnas A, B, C, D randomico</h3>"
   ]
  },
  {
   "cell_type": "code",
   "execution_count": 125,
   "metadata": {},
   "outputs": [
    {
     "name": "stdout",
     "output_type": "stream",
     "text": [
      "                   A         B         C         D\n",
      "2013-01-01  0.214375  0.364168  0.387913  0.747001\n",
      "2013-01-02  0.540255  0.066327  0.509146  0.573819\n",
      "2013-01-03  0.967697  0.568633  0.981920  0.449675\n",
      "2013-01-04  0.870724  0.861575  0.504578  0.645288\n",
      "2013-01-05  0.266496  0.403864  0.824286  0.255879\n",
      "2013-01-06  0.805182  0.713140  0.362472  0.095519\n"
     ]
    }
   ],
   "source": [
    "indices = [\"2013-01-01\",\n",
    "          \"2013-01-02\",\n",
    "          \"2013-01-03\",\n",
    "          \"2013-01-04\",\n",
    "          \"2013-01-05\",\n",
    "          \"2013-01-06\"]\n",
    "\n",
    "df = pd.DataFrame(np.random.rand(24).reshape(6,4), columns=list('ABCD'), index = indices)\n",
    "print(df)"
   ]
  },
  {
   "cell_type": "markdown",
   "metadata": {},
   "source": [
    "<h3>4) Crear un Dataframe con 10 registros y 6 columnas y con una propiedad del Dataframe mostrar las columnas, con otro comando mostrar los valores.</h3>\n"
   ]
  },
  {
   "cell_type": "code",
   "execution_count": 137,
   "metadata": {},
   "outputs": [
    {
     "name": "stdout",
     "output_type": "stream",
     "text": [
      "COLUMNAS\n",
      "Index(['1', '2', '3', '4', '5', '6'], dtype='object')\n",
      "VALORES\n",
      "[[35 91 33 43 78  1]\n",
      " [23 79 13  4 92 35]\n",
      " [73 93 29 32 11 60]\n",
      " [15 46 60 31 94 52]\n",
      " [98 21 91 53 77 23]\n",
      " [90 59 41  8 77 54]\n",
      " [59 63  6  1 17 67]\n",
      " [65  5 72 12 17 29]\n",
      " [79 95 30 84 63 83]\n",
      " [99 38 14 24 60 71]]\n"
     ]
    }
   ],
   "source": [
    "df = pd.DataFrame(np.random.randint(0,100,size=(10, 6)), columns=list('123456'))\n",
    "\n",
    "print(\"COLUMNAS\")\n",
    "print(df.columns)\n",
    "\n",
    "print(\"VALORES\")\n",
    "print(df.values)"
   ]
  },
  {
   "cell_type": "markdown",
   "metadata": {},
   "source": [
    "<h3>5) Crear un Dataframe con 10 registros y 6 columnas y con una funcion del Dataframe describir estadisticamente el Dataframe</h3>\n"
   ]
  },
  {
   "cell_type": "code",
   "execution_count": 127,
   "metadata": {},
   "outputs": [
    {
     "name": "stdout",
     "output_type": "stream",
     "text": [
      "DESCRIPCIÓN ESTADÍSTICA\n",
      "               1          2          3          4          5          6\n",
      "count  10.000000  10.000000  10.000000  10.000000  10.000000  10.000000\n",
      "mean   49.500000  27.500000  43.200000  47.100000  63.600000  35.300000\n",
      "std    35.951356  33.556751  27.871929  29.103074  25.721586  25.828709\n",
      "min     1.000000   1.000000   8.000000   2.000000  30.000000   3.000000\n",
      "25%    17.750000   2.500000  23.250000  33.250000  45.250000  13.250000\n",
      "50%    48.500000   8.000000  36.000000  54.000000  64.000000  29.500000\n",
      "75%    85.000000  42.500000  63.250000  55.750000  85.750000  54.750000\n",
      "max    90.000000  89.000000  84.000000  97.000000  98.000000  77.000000\n"
     ]
    }
   ],
   "source": [
    "df = pd.DataFrame(np.random.randint(0,100,size=(10, 6)), columns=list('123456'))\n",
    "\n",
    "print(\"DESCRIPCIÓN ESTADÍSTICA\")\n",
    "print(df.describe())"
   ]
  },
  {
   "cell_type": "markdown",
   "metadata": {},
   "source": [
    "<h3>6) Crear un Dataframe con 10 registros y 6 columnas y con una funcion del Dataframe transponer los datos</h3>\n"
   ]
  },
  {
   "cell_type": "code",
   "execution_count": 128,
   "metadata": {},
   "outputs": [
    {
     "name": "stdout",
     "output_type": "stream",
     "text": [
      "DATAFRAME TRANSPUESTO\n",
      "    0   1   2   3   4   5   6   7   8   9\n",
      "1  92  40  61  53   5  80  82  55  32  48\n",
      "2  44  10  96  67  56  67  25   2  23  55\n",
      "3  48  66  55  28  85  59   8  93  86  25\n",
      "4  53  60  46  50  23  47  93  36  27  70\n",
      "5  31  27   9  40   8  56  93  58  98  18\n",
      "6  45  28  20  95  94  81  25  97  13  94\n"
     ]
    }
   ],
   "source": [
    "df = pd.DataFrame(np.random.randint(0,100,size=(10, 6)), columns=list('123456'))\n",
    "\n",
    "print(\"DATAFRAME TRANSPUESTO\")\n",
    "print(df.T)"
   ]
  },
  {
   "cell_type": "markdown",
   "metadata": {},
   "source": [
    "<h3>7) Crear un Dataframe con 10 registros y 6 columnas y Ordenar el dataframe 1 vez por cada columna, ascendente y descendente</h3>"
   ]
  },
  {
   "cell_type": "code",
   "execution_count": 129,
   "metadata": {},
   "outputs": [
    {
     "name": "stdout",
     "output_type": "stream",
     "text": [
      "ASCENDING\n",
      "    1   2   3   4   5   6\n",
      "0   6   3  11  22   1   0\n",
      "1   9  12  19  33   7   3\n",
      "2  17  21  40  33  10   6\n",
      "3  19  33  43  34  13  15\n",
      "4  20  34  43  36  38  32\n",
      "5  30  42  63  51  54  40\n",
      "6  40  49  70  68  60  54\n",
      "7  69  52  85  73  73  57\n",
      "8  90  73  90  79  74  70\n",
      "9  96  74  94  99  96  87\n",
      "DESCENDING\n",
      "    1   2   3   4   5   6\n",
      "0  96  74  94  99  96  87\n",
      "1  90  73  90  79  74  70\n",
      "2  69  52  85  73  73  57\n",
      "3  40  49  70  68  60  54\n",
      "4  30  42  63  51  54  40\n",
      "5  20  34  43  36  38  32\n",
      "6  19  33  43  34  13  15\n",
      "7  17  21  40  33  10   6\n",
      "8   9  12  19  33   7   3\n",
      "9   6   3  11  22   1   0\n"
     ]
    }
   ],
   "source": [
    "df = pd.DataFrame(np.random.randint(0,100,size=(10, 6)), columns=list('123456'))\n",
    "\n",
    "df = pd.DataFrame(np.sort(df.values, axis=0), index=df.index, columns=df.columns)\n",
    "print(\"ASCENDING\")\n",
    "print(df)\n",
    "\n",
    "df = pd.DataFrame(-np.sort(-df.values, axis=0), index=df.index, columns=df.columns)\n",
    "print(\"DESCENDING\")\n",
    "print(df)"
   ]
  },
  {
   "cell_type": "markdown",
   "metadata": {},
   "source": [
    "<h3>8) Crear un Dataframe con 10 registros y 6 columnas llenas de números randomicos del 1 al 10 y seleccionar en un nuevo Dataframe solo los valores mayores a 7</h3>"
   ]
  },
  {
   "cell_type": "code",
   "execution_count": 130,
   "metadata": {},
   "outputs": [
    {
     "name": "stdout",
     "output_type": "stream",
     "text": [
      "   1  2   3   4   5  6\n",
      "0  4  9   7  10   7  6\n",
      "1  4  5   1   4   7  7\n",
      "2  4  8   3   7   8  4\n",
      "3  5  5  10  10   1  6\n",
      "4  6  1   7   6   8  7\n",
      "5  7  6   7   7  10  2\n",
      "6  8  3   6   6  10  3\n",
      "7  1  3   1   9   1  9\n",
      "8  4  1   8   4   4  7\n",
      "9  8  7   6   8   6  7\n",
      "\n",
      "     1    2     3     4     5    6\n",
      "0  NaN  9.0   NaN  10.0   NaN  NaN\n",
      "1  NaN  NaN   NaN   NaN   NaN  NaN\n",
      "2  NaN  8.0   NaN   NaN   8.0  NaN\n",
      "3  NaN  NaN  10.0  10.0   NaN  NaN\n",
      "4  NaN  NaN   NaN   NaN   8.0  NaN\n",
      "5  NaN  NaN   NaN   NaN  10.0  NaN\n",
      "6  8.0  NaN   NaN   NaN  10.0  NaN\n",
      "7  NaN  NaN   NaN   9.0   NaN  9.0\n",
      "8  NaN  NaN   8.0   NaN   NaN  NaN\n",
      "9  8.0  NaN   NaN   8.0   NaN  NaN\n"
     ]
    }
   ],
   "source": [
    "df = pd.DataFrame(np.random.randint(1,11,size=(10, 6)), columns=list('123456'))\n",
    "print(df)\n",
    "print()\n",
    "\n",
    "rslt_df = df[df > 7] \n",
    "print(rslt_df)"
   ]
  },
  {
   "cell_type": "markdown",
   "metadata": {},
   "source": [
    "<h3>9) Crear un Dataframe con 10 registros y 6 columnas llenas de números randomicos del 1 al 10 o valores NaN. Luego llenar los valores NaN con 0.</h3>"
   ]
  },
  {
   "cell_type": "code",
   "execution_count": 131,
   "metadata": {},
   "outputs": [
    {
     "name": "stdout",
     "output_type": "stream",
     "text": [
      "DATAFRAME CON VALORES NAN\n",
      "     1     2     3     4     5     6\n",
      "0  NaN   8.0   NaN   NaN   8.0   9.0\n",
      "1  NaN  10.0   NaN   6.0   NaN   6.0\n",
      "2  8.0   NaN   7.0   7.0   6.0   NaN\n",
      "3  NaN   6.0   7.0   8.0   5.0   NaN\n",
      "4  NaN   NaN   NaN   NaN   5.0   7.0\n",
      "5  7.0   7.0  10.0   5.0   NaN   6.0\n",
      "6  5.0   NaN   7.0  10.0   NaN   5.0\n",
      "7  8.0   NaN   6.0   5.0   7.0   7.0\n",
      "8  7.0   NaN   8.0  10.0   9.0   8.0\n",
      "9  8.0   6.0   NaN   NaN  10.0  10.0\n",
      "DATAFRAME SIN VALORES NAN\n",
      "     1     2     3     4     5     6\n",
      "0  0.0   8.0   0.0   0.0   8.0   9.0\n",
      "1  0.0  10.0   0.0   6.0   0.0   6.0\n",
      "2  8.0   0.0   7.0   7.0   6.0   0.0\n",
      "3  0.0   6.0   7.0   8.0   5.0   0.0\n",
      "4  0.0   0.0   0.0   0.0   5.0   7.0\n",
      "5  7.0   7.0  10.0   5.0   0.0   6.0\n",
      "6  5.0   0.0   7.0  10.0   0.0   5.0\n",
      "7  8.0   0.0   6.0   5.0   7.0   7.0\n",
      "8  7.0   0.0   8.0  10.0   9.0   8.0\n",
      "9  8.0   6.0   0.0   0.0  10.0  10.0\n"
     ]
    }
   ],
   "source": [
    "df = pd.DataFrame(np.random.randint(1,11,size=(10, 6)), columns=list('123456'))\n",
    "df = df[df > 4] \n",
    "print(\"DATAFRAME CON VALORES NAN\")\n",
    "print(df)\n",
    "print(\"DATAFRAME SIN VALORES NAN\")\n",
    "print(df.fillna(0))"
   ]
  },
  {
   "cell_type": "markdown",
   "metadata": {},
   "source": [
    "<h3>10) Crear un Dataframe con 10 registros y 6 columnas llenas de números randomicos del 1 al 10 y sacar la media, la mediana, el promedio</h3>"
   ]
  },
  {
   "cell_type": "code",
   "execution_count": 132,
   "metadata": {},
   "outputs": [
    {
     "name": "stdout",
     "output_type": "stream",
     "text": [
      "MEDIA\n",
      "1    5.6\n",
      "2    7.0\n",
      "3    5.2\n",
      "4    6.1\n",
      "5    5.4\n",
      "6    5.5\n",
      "dtype: float64\n",
      "MEDIANA\n",
      "1    5.5\n",
      "2    7.5\n",
      "3    5.5\n",
      "4    6.5\n",
      "5    5.0\n",
      "6    5.0\n",
      "dtype: float64\n"
     ]
    }
   ],
   "source": [
    "df = pd.DataFrame(np.random.randint(1,11,size=(10, 6)), columns=list('123456'))\n",
    "print(\"MEDIA\")\n",
    "print(df.mean())\n",
    "\n",
    "print(\"MEDIANA\")\n",
    "print(df.median())"
   ]
  },
  {
   "cell_type": "markdown",
   "metadata": {},
   "source": [
    "<h3>11) Crear un Dataframe con 10 registros y 6 columnas llenas de números randomicos del 1 al 10, luego crear otro dateframe con 10 registros y 6 columnas llenas de números randomicos del 1 al 10 y anadirlo al primer Dataframe</h3>"
   ]
  },
  {
   "cell_type": "code",
   "execution_count": 133,
   "metadata": {},
   "outputs": [
    {
     "name": "stdout",
     "output_type": "stream",
     "text": [
      "PRIMER DATAFRAME\n",
      "    1  2   3  4  5   6\n",
      "0   7  9   2  5  4   2\n",
      "1  10  5   2  5  5   2\n",
      "2   2  3   3  8  5   1\n",
      "3   4  4   9  8  1   1\n",
      "4   1  1   8  9  6  10\n",
      "5   7  8   8  2  1   2\n",
      "6   6  6   6  6  4   3\n",
      "7   4  2  10  1  2   5\n",
      "8   4  3   2  5  8   6\n",
      "9  10  7   5  7  2   5\n",
      "SEGUNDO DATAFRAME\n",
      "    1  2  3   4  5   6\n",
      "0   2  4  1  10  8   7\n",
      "1   1  7  4   2  8   7\n",
      "2   7  6  1   5  9   1\n",
      "3   7  6  6   2  2   7\n",
      "4   3  1  7  10  6   1\n",
      "5   3  1  6   9  3   9\n",
      "6   9  7  9   4  6   5\n",
      "7  10  5  6   3  2   9\n",
      "8   4  4  4   8  5   2\n",
      "9  10  1  5   2  4  10\n",
      "DATAFRAME UNIDO\n",
      "    1  2   3   4  5   6\n",
      "0   7  9   2   5  4   2\n",
      "1  10  5   2   5  5   2\n",
      "2   2  3   3   8  5   1\n",
      "3   4  4   9   8  1   1\n",
      "4   1  1   8   9  6  10\n",
      "5   7  8   8   2  1   2\n",
      "6   6  6   6   6  4   3\n",
      "7   4  2  10   1  2   5\n",
      "8   4  3   2   5  8   6\n",
      "9  10  7   5   7  2   5\n",
      "0   2  4   1  10  8   7\n",
      "1   1  7   4   2  8   7\n",
      "2   7  6   1   5  9   1\n",
      "3   7  6   6   2  2   7\n",
      "4   3  1   7  10  6   1\n",
      "5   3  1   6   9  3   9\n",
      "6   9  7   9   4  6   5\n",
      "7  10  5   6   3  2   9\n",
      "8   4  4   4   8  5   2\n",
      "9  10  1   5   2  4  10\n"
     ]
    }
   ],
   "source": [
    "df_1 = pd.DataFrame(np.random.randint(1,11,size=(10, 6)), columns=list('123456'))\n",
    "df_2 = pd.DataFrame(np.random.randint(1,11,size=(10, 6)), columns=list('123456'))\n",
    "\n",
    "print(\"PRIMER DATAFRAME\")\n",
    "print(df_1)\n",
    "\n",
    "print(\"SEGUNDO DATAFRAME\")\n",
    "print(df_2)\n",
    "\n",
    "print(\"DATAFRAME UNIDO\")\n",
    "print(df_1.append(df_2)) "
   ]
  },
  {
   "cell_type": "markdown",
   "metadata": {},
   "source": [
    "<h3>12) Crear un Dataframe con 10 registros y 6 columnas llenas de strings. Luego, unir la columna 1 y 2 en una sola, la 3 y 4, y la 5 y 6 concatenando su texto.</h3>"
   ]
  },
  {
   "cell_type": "code",
   "execution_count": 134,
   "metadata": {},
   "outputs": [
    {
     "name": "stdout",
     "output_type": "stream",
     "text": [
      "DATAFRAME CON COLUMNAS CONCATENADAS\n",
      "     1_2    3_4    5_6\n",
      "0  aa-ba  ca-da  ea-fa\n",
      "1  ab-bb  cb-db  eb-fb\n",
      "2  ac-bc  cc-dc  ec-fc\n",
      "3  ad-bd  cd-dd  ed-fd\n",
      "4  ae-be  ce-de  ee-fe\n",
      "5  af-bf  cf-df  ef-ff\n",
      "6  ag-bg  cg-dg  eg-fg\n",
      "7  ah-bh  ch-dh  eh-fh\n",
      "8  ai-bi  ci-di  ei-fi\n",
      "9  aj-bj  cj-dj  ej-fj\n"
     ]
    }
   ],
   "source": [
    "data_string = \"\"\"1,2,3,4,5,6\n",
    "aa,ba,ca,da,ea,fa\n",
    "ab,bb,cb,db,eb,fb\n",
    "ac,bc,cc,dc,ec,fc\n",
    "ad,bd,cd,dd,ed,fd\n",
    "ae,be,ce,de,ee,fe\n",
    "af,bf,cf,df,ef,ff\n",
    "ag,bg,cg,dg,eg,fg\n",
    "ah,bh,ch,dh,eh,fh\n",
    "ai,bi,ci,di,ei,fi\n",
    "aj,bj,cj,dj,ej,fj\n",
    "                 \"\"\"\n",
    "\n",
    "data = StringIO(data_string)\n",
    "df = pd.read_csv(data, sep=\",\")\n",
    "\n",
    "cols = [\"1\", \"2\"]\n",
    "df['1_2'] = df[cols].apply(lambda row: '-'.join(row.values.astype(str)), axis=1)\n",
    "\n",
    "cols = [\"3\", \"4\"]\n",
    "df['3_4'] = df[cols].apply(lambda row: '-'.join(row.values.astype(str)), axis=1)\n",
    "\n",
    "cols = [\"5\", \"6\"]\n",
    "df['5_6'] = df[cols].apply(lambda row: '-'.join(row.values.astype(str)), axis=1)\n",
    "\n",
    "print(\"DATAFRAME CON COLUMNAS CONCATENADAS\")\n",
    "print(df[[\"1_2\",\"3_4\",\"5_6\"]])"
   ]
  },
  {
   "cell_type": "markdown",
   "metadata": {},
   "source": [
    "<h3>13) Crear un Dataframe con 10 registros y 6 columnas llenas de números randomicos del 1 al 10 enteros, obtener la frecuencia de repeticion de los numeros enteros en cada columna</h3>"
   ]
  },
  {
   "cell_type": "code",
   "execution_count": 135,
   "metadata": {},
   "outputs": [
    {
     "name": "stdout",
     "output_type": "stream",
     "text": [
      "DATAFRAME\n",
      "   1  2   3   4   5   6\n",
      "0  8  8   9  10   9   4\n",
      "1  1  3   7   9   3   8\n",
      "2  6  8   2   5   9   9\n",
      "3  6  4   9  10   8   3\n",
      "4  5  8   6   2   8   7\n",
      "5  8  2   3  10   1   4\n",
      "6  5  3   3   3   8   2\n",
      "7  1  4   4   8   5   4\n",
      "8  8  6  10   5   5  10\n",
      "9  9  9   4   4  10   3\n",
      "COLUMNA 1\n",
      "8    3\n",
      "6    2\n",
      "5    2\n",
      "1    2\n",
      "9    1\n",
      "Name: 1, dtype: int64\n",
      "COLUMNA 2\n",
      "8    3\n",
      "4    2\n",
      "3    2\n",
      "9    1\n",
      "6    1\n",
      "2    1\n",
      "Name: 2, dtype: int64\n",
      "COLUMNA 3\n",
      "9     2\n",
      "4     2\n",
      "3     2\n",
      "10    1\n",
      "7     1\n",
      "6     1\n",
      "2     1\n",
      "Name: 3, dtype: int64\n",
      "COLUMNA 4\n",
      "10    3\n",
      "5     2\n",
      "9     1\n",
      "8     1\n",
      "4     1\n",
      "3     1\n",
      "2     1\n",
      "Name: 4, dtype: int64\n",
      "COLUMNA 5\n",
      "8     3\n",
      "9     2\n",
      "5     2\n",
      "10    1\n",
      "3     1\n",
      "1     1\n",
      "Name: 5, dtype: int64\n"
     ]
    }
   ],
   "source": [
    "df = pd.DataFrame(np.random.randint(1,11,size=(10, 6)), columns=list('123456'))\n",
    "print(\"DATAFRAME\")\n",
    "print(df)\n",
    "\n",
    "for x in range(1,6):\n",
    "    print(\"COLUMNA \" + str(x))\n",
    "    print(df[str(x)].value_counts())"
   ]
  },
  {
   "cell_type": "markdown",
   "metadata": {},
   "source": [
    "<h3>14) Crear un Dataframe con 10 registros y 3 columnas, A B C, llenas de números randomicos del 1 al 10 enteros. Crear una nueva columna con el calculo por fila (A * B ) / C</h3>"
   ]
  },
  {
   "cell_type": "code",
   "execution_count": 136,
   "metadata": {},
   "outputs": [
    {
     "name": "stdout",
     "output_type": "stream",
     "text": [
      "DATAFRAME\n",
      "    A   B  C\n",
      "0   7   2  9\n",
      "1   8   4  5\n",
      "2   3   1  9\n",
      "3   9   7  8\n",
      "4   7   8  8\n",
      "5   6   9  4\n",
      "6   2  10  7\n",
      "7   1   9  5\n",
      "8   7   6  1\n",
      "9  10   4  8\n",
      "DATAFRAME CON COLUMNA CALCULO\n",
      "    A   B  C    CALCULO\n",
      "0   7   2  9   1.555556\n",
      "1   8   4  5   6.400000\n",
      "2   3   1  9   0.333333\n",
      "3   9   7  8   7.875000\n",
      "4   7   8  8   7.000000\n",
      "5   6   9  4  13.500000\n",
      "6   2  10  7   2.857143\n",
      "7   1   9  5   1.800000\n",
      "8   7   6  1  42.000000\n",
      "9  10   4  8   5.000000\n"
     ]
    }
   ],
   "source": [
    "df = pd.DataFrame(np.random.randint(1,11,size=(10, 3)), columns=list('ABC'))\n",
    "print(\"DATAFRAME\")\n",
    "print(df)\n",
    "\n",
    "cols = [\"A\", \"B\", \"C\"]\n",
    "df['CALCULO'] = df[cols].apply(lambda row: int(row[\"A\"]) * int(row[\"B\"]) / int(row[\"C\"]), axis=1)\n",
    "\n",
    "print(\"DATAFRAME CON COLUMNA CALCULO\")\n",
    "print(df)"
   ]
  },
  {
   "cell_type": "code",
   "execution_count": null,
   "metadata": {},
   "outputs": [],
   "source": []
  }
 ],
 "metadata": {
  "kernelspec": {
   "display_name": "Python 3",
   "language": "python",
   "name": "python3"
  },
  "language_info": {
   "codemirror_mode": {
    "name": "ipython",
    "version": 3
   },
   "file_extension": ".py",
   "mimetype": "text/x-python",
   "name": "python",
   "nbconvert_exporter": "python",
   "pygments_lexer": "ipython3",
   "version": "3.7.7"
  }
 },
 "nbformat": 4,
 "nbformat_minor": 4
}
