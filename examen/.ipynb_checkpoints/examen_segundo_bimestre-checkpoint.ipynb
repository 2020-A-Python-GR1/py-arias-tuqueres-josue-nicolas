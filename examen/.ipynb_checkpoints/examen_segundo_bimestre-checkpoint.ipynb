{
 "cells": [
  {
   "cell_type": "markdown",
   "metadata": {},
   "source": [
    "<h1>EXAMEN SEGUNDO BIMESTRE</h1>"
   ]
  },
  {
   "cell_type": "code",
   "execution_count": 84,
   "metadata": {},
   "outputs": [],
   "source": [
    "import pandas as pd\n",
    "import numpy as np\n",
    "from io import StringIO "
   ]
  },
  {
   "cell_type": "markdown",
   "metadata": {},
   "source": [
    "<h3>1) Crea un Dataframe de 10 registros y 6 columnas y consigue las 5 primeros y los 5 ultimos registros</h3>"
   ]
  },
  {
   "cell_type": "code",
   "execution_count": 38,
   "metadata": {},
   "outputs": [
    {
     "name": "stdout",
     "output_type": "stream",
     "text": [
      "PRIMEROS 5\n",
      "    1   2   3   4   5   6\n",
      "0  22  94  31  33  99  29\n",
      "1  64  82  38  41  49  10\n",
      "2  27  35  58  70  29   5\n",
      "3  26  11  43  98  92  39\n",
      "4  31  33  87  63  30  78\n",
      "ÚLTIMOS 5\n",
      "    1   2   3   4   5   6\n",
      "5  74   8  83  47   5  28\n",
      "6  45  61  10  69  81  65\n",
      "7  99  68   0  88  33   1\n",
      "8  19  31  11  50  51  18\n",
      "9  90  82  54  55  62  59\n"
     ]
    }
   ],
   "source": [
    "df = pd.DataFrame(np.random.randint(0,100,size=(10, 6)), columns=list('123456'))\n",
    "\n",
    "print(\"PRIMEROS 5\")\n",
    "print(df.head(5))\n",
    "\n",
    "print(\"ÚLTIMOS 5\")\n",
    "print(df.tail(5))\n"
   ]
  },
  {
   "cell_type": "markdown",
   "metadata": {},
   "source": [
    "<h3>2) Crear un dataframe pasando un arreglo de numpy de 6 x 4 con una fecha como indice y con columnas A, B, C, D randomico</h3>"
   ]
  },
  {
   "cell_type": "code",
   "execution_count": 22,
   "metadata": {},
   "outputs": [
    {
     "name": "stdout",
     "output_type": "stream",
     "text": [
      "                   A         B         C         D\n",
      "2013-01-01  0.766478  0.588025  0.382416  0.545553\n",
      "2013-01-02  0.859098  0.978044  0.740000  0.108707\n",
      "2013-01-03  0.509021  0.783938  0.725194  0.105601\n",
      "2013-01-04  0.112319  0.002058  0.971767  0.413054\n",
      "2013-01-05  0.927117  0.509926  0.339082  0.449308\n",
      "2013-01-06  0.669004  0.456007  0.569365  0.290697\n"
     ]
    }
   ],
   "source": [
    "indices = [\"2013-01-01\",\n",
    "          \"2013-01-02\",\n",
    "          \"2013-01-03\",\n",
    "          \"2013-01-04\",\n",
    "          \"2013-01-05\",\n",
    "          \"2013-01-06\"]\n",
    "\n",
    "df = pd.DataFrame(np.random.rand(24).reshape(6,4), columns=list('ABCD'), index = indices)\n",
    "print(df)"
   ]
  },
  {
   "cell_type": "markdown",
   "metadata": {},
   "source": [
    "<h3>4) Crear un Dataframe con 10 registros y 6 columnas y con una propiedad del Dataframe mostrar las columnas, con otro comando mostrar los valores.</h3>\n"
   ]
  },
  {
   "cell_type": "code",
   "execution_count": 37,
   "metadata": {},
   "outputs": [
    {
     "ename": "SyntaxError",
     "evalue": "invalid syntax (<ipython-input-37-f1ad3acd346b>, line 6)",
     "output_type": "error",
     "traceback": [
      "\u001b[1;36m  File \u001b[1;32m\"<ipython-input-37-f1ad3acd346b>\"\u001b[1;36m, line \u001b[1;32m6\u001b[0m\n\u001b[1;33m    print(\"VALORES\")\u001b[0m\n\u001b[1;37m        ^\u001b[0m\n\u001b[1;31mSyntaxError\u001b[0m\u001b[1;31m:\u001b[0m invalid syntax\n"
     ]
    }
   ],
   "source": [
    "df = pd.DataFrame(np.random.randint(0,100,size=(10, 6)), columns=list('123456'))\n",
    "\n",
    "print(\"COLUMNAS\")\n",
    "print(df.columns\n",
    "\n",
    "print(\"VALORES\")\n",
    "print(df.values)"
   ]
  },
  {
   "cell_type": "markdown",
   "metadata": {},
   "source": [
    "<h3>5) Crear un Dataframe con 10 registros y 6 columnas y con una funcion del Dataframe describir estadisticamente el Dataframe</h3>\n"
   ]
  },
  {
   "cell_type": "code",
   "execution_count": 33,
   "metadata": {},
   "outputs": [
    {
     "name": "stdout",
     "output_type": "stream",
     "text": [
      "DESCRIPCIÓN ESTADÍSTICA\n",
      "               1          2          3          4          5          6\n",
      "count  10.000000  10.000000  10.000000  10.000000  10.000000  10.000000\n",
      "mean   54.800000  49.900000  29.200000  62.300000  43.700000  54.100000\n",
      "std    33.498922  28.104764  25.494226  23.939971  29.601239  29.179331\n",
      "min     1.000000  21.000000   0.000000  15.000000   7.000000  15.000000\n",
      "25%    26.000000  26.750000   4.750000  46.000000  23.250000  28.000000\n",
      "50%    70.000000  41.500000  30.000000  68.000000  35.500000  54.000000\n",
      "75%    79.250000  77.250000  49.750000  81.250000  72.500000  74.250000\n",
      "max    86.000000  90.000000  67.000000  87.000000  85.000000  99.000000\n"
     ]
    }
   ],
   "source": [
    "df = pd.DataFrame(np.random.randint(0,100,size=(10, 6)), columns=list('123456'))\n",
    "\n",
    "print(\"DESCRIPCIÓN ESTADÍSTICA\")\n",
    "print(df.describe())"
   ]
  },
  {
   "cell_type": "markdown",
   "metadata": {},
   "source": [
    "<h3>6) Crear un Dataframe con 10 registros y 6 columnas y con una funcion del Dataframe transponer los datos</h3>\n"
   ]
  },
  {
   "cell_type": "code",
   "execution_count": 42,
   "metadata": {},
   "outputs": [
    {
     "name": "stdout",
     "output_type": "stream",
     "text": [
      "DATAFRAME TRANSPUESTO\n",
      "    0   1   2   3   4   5   6   7   8   9\n",
      "1  92  81  14  57  36  70   9  54  82  21\n",
      "2  39   4   9  88  21  37  12  36  98  99\n",
      "3   3  65  27  71  79  22  76  67  33   6\n",
      "4  51  26  13  63  60  92  34  46  39   7\n",
      "5  35  39  48  49  13  94  81  72  20  79\n",
      "6  78  11  89  60  46  32  58  93  16  35\n"
     ]
    }
   ],
   "source": [
    "df = pd.DataFrame(np.random.randint(0,100,size=(10, 6)), columns=list('123456'))\n",
    "\n",
    "print(\"DATAFRAME TRANSPUESTO\")\n",
    "print(df.T)"
   ]
  },
  {
   "cell_type": "markdown",
   "metadata": {},
   "source": [
    "<h3>7) Crear un Dataframe con 10 registros y 6 columnas y Ordenar el dataframe 1 vez por cada columna, ascendente y descendente</h3>"
   ]
  },
  {
   "cell_type": "code",
   "execution_count": 50,
   "metadata": {},
   "outputs": [
    {
     "name": "stdout",
     "output_type": "stream",
     "text": [
      "ASCENDING\n",
      "    1   2   3   4   5   6\n",
      "0  11  21   1  14   4   0\n",
      "1  24  29   6  16   7   5\n",
      "2  24  40  21  24  10  11\n",
      "3  47  42  31  49  11  29\n",
      "4  55  43  43  67  48  31\n",
      "5  64  73  65  72  50  56\n",
      "6  66  74  67  73  59  68\n",
      "7  68  87  72  74  64  72\n",
      "8  86  89  76  74  81  73\n",
      "9  91  92  81  83  98  76\n",
      "DESCENDING\n",
      "    1   2   3   4   5   6\n",
      "0  91  92  81  83  98  76\n",
      "1  86  89  76  74  81  73\n",
      "2  68  87  72  74  64  72\n",
      "3  66  74  67  73  59  68\n",
      "4  64  73  65  72  50  56\n",
      "5  55  43  43  67  48  31\n",
      "6  47  42  31  49  11  29\n",
      "7  24  40  21  24  10  11\n",
      "8  24  29   6  16   7   5\n",
      "9  11  21   1  14   4   0\n"
     ]
    }
   ],
   "source": [
    "df = pd.DataFrame(np.random.randint(0,100,size=(10, 6)), columns=list('123456'))\n",
    "\n",
    "df = pd.DataFrame(np.sort(df.values, axis=0), index=df.index, columns=df.columns)\n",
    "print(\"ASCENDING\")\n",
    "print(df)\n",
    "\n",
    "df = pd.DataFrame(-np.sort(-df.values, axis=0), index=df.index, columns=df.columns)\n",
    "print(\"DESCENDING\")\n",
    "print(df)"
   ]
  },
  {
   "cell_type": "markdown",
   "metadata": {},
   "source": [
    "<h3>8) Crear un Dataframe con 10 registros y 6 columnas llenas de números randomicos del 1 al 10 y seleccionar en un nuevo Dataframe solo los valores mayores a 7</h3>"
   ]
  },
  {
   "cell_type": "code",
   "execution_count": 65,
   "metadata": {},
   "outputs": [
    {
     "name": "stdout",
     "output_type": "stream",
     "text": [
      "   1  2   3  4   5   6\n",
      "0  8  4  10  4   9   9\n",
      "1  5  4   2  1  10  10\n",
      "2  9  9   8  8   6   9\n",
      "3  6  6   2  6   5   7\n",
      "4  9  3   6  7   8   2\n",
      "5  6  5   7  7  10   5\n",
      "6  9  3   7  5   7   6\n",
      "7  7  6   4  9   5   3\n",
      "8  8  4   2  1  10   4\n",
      "9  3  1   6  1   7   3\n",
      "\n",
      "     1    2     3    4     5     6\n",
      "0  8.0  NaN  10.0  NaN   9.0   9.0\n",
      "1  NaN  NaN   NaN  NaN  10.0  10.0\n",
      "2  9.0  9.0   8.0  8.0   NaN   9.0\n",
      "3  NaN  NaN   NaN  NaN   NaN   NaN\n",
      "4  9.0  NaN   NaN  NaN   8.0   NaN\n",
      "5  NaN  NaN   NaN  NaN  10.0   NaN\n",
      "6  9.0  NaN   NaN  NaN   NaN   NaN\n",
      "7  NaN  NaN   NaN  9.0   NaN   NaN\n",
      "8  8.0  NaN   NaN  NaN  10.0   NaN\n",
      "9  NaN  NaN   NaN  NaN   NaN   NaN\n"
     ]
    }
   ],
   "source": [
    "df = pd.DataFrame(np.random.randint(1,11,size=(10, 6)), columns=list('123456'))\n",
    "print(df)\n",
    "print()\n",
    "\n",
    "rslt_df = df[df > 7] \n",
    "print(rslt_df)"
   ]
  },
  {
   "cell_type": "markdown",
   "metadata": {},
   "source": [
    "<h3>9) Crear un Dataframe con 10 registros y 6 columnas llenas de números randomicos del 1 al 10 o valores NaN. Luego llenar los valores NaN con 0.</h3>"
   ]
  },
  {
   "cell_type": "code",
   "execution_count": 72,
   "metadata": {},
   "outputs": [
    {
     "name": "stdout",
     "output_type": "stream",
     "text": [
      "DATAFRAME CON VALORES NAN\n",
      "      1     2    3     4     5    6\n",
      "0   6.0   NaN  9.0   8.0  10.0  6.0\n",
      "1  10.0   6.0  NaN   NaN  10.0  8.0\n",
      "2   9.0   7.0  6.0   NaN   7.0  9.0\n",
      "3   7.0   8.0  NaN   6.0   7.0  NaN\n",
      "4   NaN  10.0  9.0   NaN  10.0  NaN\n",
      "5   7.0   9.0  5.0   6.0   6.0  5.0\n",
      "6   NaN   NaN  9.0  10.0   6.0  7.0\n",
      "7   NaN   7.0  7.0   8.0   6.0  NaN\n",
      "8   6.0  10.0  9.0   NaN   NaN  NaN\n",
      "9   9.0   NaN  NaN   NaN   7.0  6.0\n",
      "DATAFRAME SIN VALORES NAN\n",
      "      1     2    3     4     5    6\n",
      "0   6.0   0.0  9.0   8.0  10.0  6.0\n",
      "1  10.0   6.0  0.0   0.0  10.0  8.0\n",
      "2   9.0   7.0  6.0   0.0   7.0  9.0\n",
      "3   7.0   8.0  0.0   6.0   7.0  0.0\n",
      "4   0.0  10.0  9.0   0.0  10.0  0.0\n",
      "5   7.0   9.0  5.0   6.0   6.0  5.0\n",
      "6   0.0   0.0  9.0  10.0   6.0  7.0\n",
      "7   0.0   7.0  7.0   8.0   6.0  0.0\n",
      "8   6.0  10.0  9.0   0.0   0.0  0.0\n",
      "9   9.0   0.0  0.0   0.0   7.0  6.0\n"
     ]
    }
   ],
   "source": [
    "df = pd.DataFrame(np.random.randint(1,11,size=(10, 6)), columns=list('123456'))\n",
    "df = df[df > 4] \n",
    "print(\"DATAFRAME CON VALORES NAN\")\n",
    "print(df)\n",
    "print(\"DATAFRAME SIN VALORES NAN\")\n",
    "print(df.fillna(0))"
   ]
  },
  {
   "cell_type": "markdown",
   "metadata": {},
   "source": [
    "<h3>10) Crear un Dataframe con 10 registros y 6 columnas llenas de números randomicos del 1 al 10 y sacar la media, la mediana, el promedio</h3>"
   ]
  },
  {
   "cell_type": "code",
   "execution_count": 78,
   "metadata": {},
   "outputs": [
    {
     "name": "stdout",
     "output_type": "stream",
     "text": [
      "MEDIA\n",
      "1    4.3\n",
      "2    5.2\n",
      "3    5.8\n",
      "4    5.0\n",
      "5    6.1\n",
      "6    5.5\n",
      "dtype: float64\n",
      "MEDIANA\n",
      "1    4.5\n",
      "2    5.0\n",
      "3    6.0\n",
      "4    5.5\n",
      "5    6.0\n",
      "6    6.5\n",
      "dtype: float64\n"
     ]
    }
   ],
   "source": [
    "df = pd.DataFrame(np.random.randint(1,11,size=(10, 6)), columns=list('123456'))\n",
    "print(\"MEDIA\")\n",
    "print(df.mean())\n",
    "\n",
    "print(\"MEDIANA\")\n",
    "print(df.median())"
   ]
  },
  {
   "cell_type": "markdown",
   "metadata": {},
   "source": [
    "<h3>11) Crear un Dataframe con 10 registros y 6 columnas llenas de números randomicos del 1 al 10, luego crear otro dateframe con 10 registros y 6 columnas llenas de números randomicos del 1 al 10 y anadirlo al primer Dataframe</h3>"
   ]
  },
  {
   "cell_type": "code",
   "execution_count": 82,
   "metadata": {},
   "outputs": [
    {
     "name": "stdout",
     "output_type": "stream",
     "text": [
      "PRIMER DATAFRAME\n",
      "    1   2   3   4   5  6\n",
      "0   5   7   9   6   4  2\n",
      "1   4   8   2   1   4  1\n",
      "2   4   4  10   4   4  4\n",
      "3   9   2   9   2   7  2\n",
      "4   8  10  10   5   3  7\n",
      "5   4   9   4   8   8  2\n",
      "6   2   4   9  10  10  9\n",
      "7   4   2   1   1   1  1\n",
      "8  10  10   2   5   6  7\n",
      "9   3   8   4   9  10  7\n",
      "SEGUNDO DATAFRAME\n",
      "   1   2  3   4   5   6\n",
      "0  7   8  2   8  10   6\n",
      "1  8   2  3   9   5   7\n",
      "2  3   9  6   4   3   3\n",
      "3  8   1  9   2   3   8\n",
      "4  7   5  3  10   2   2\n",
      "5  9   8  1   4  10  10\n",
      "6  9  10  4   7   2  10\n",
      "7  4   6  6   4  10   1\n",
      "8  6   3  8   4   6   3\n",
      "9  9   4  8   4   4   2\n",
      "DATAFRAME UNIDO\n",
      "    1   2   3   4   5   6\n",
      "0   5   7   9   6   4   2\n",
      "1   4   8   2   1   4   1\n",
      "2   4   4  10   4   4   4\n",
      "3   9   2   9   2   7   2\n",
      "4   8  10  10   5   3   7\n",
      "5   4   9   4   8   8   2\n",
      "6   2   4   9  10  10   9\n",
      "7   4   2   1   1   1   1\n",
      "8  10  10   2   5   6   7\n",
      "9   3   8   4   9  10   7\n",
      "0   7   8   2   8  10   6\n",
      "1   8   2   3   9   5   7\n",
      "2   3   9   6   4   3   3\n",
      "3   8   1   9   2   3   8\n",
      "4   7   5   3  10   2   2\n",
      "5   9   8   1   4  10  10\n",
      "6   9  10   4   7   2  10\n",
      "7   4   6   6   4  10   1\n",
      "8   6   3   8   4   6   3\n",
      "9   9   4   8   4   4   2\n"
     ]
    }
   ],
   "source": [
    "df_1 = pd.DataFrame(np.random.randint(1,11,size=(10, 6)), columns=list('123456'))\n",
    "df_2 = pd.DataFrame(np.random.randint(1,11,size=(10, 6)), columns=list('123456'))\n",
    "\n",
    "print(\"PRIMER DATAFRAME\")\n",
    "print(df_1)\n",
    "\n",
    "print(\"SEGUNDO DATAFRAME\")\n",
    "print(df_2)\n",
    "\n",
    "print(\"DATAFRAME UNIDO\")\n",
    "print(df_1.append(df_2)) "
   ]
  },
  {
   "cell_type": "markdown",
   "metadata": {},
   "source": [
    "<h3>12) Crear un Dataframe con 10 registros y 6 columnas llenas de strings. Luego, unir la columna 1 y 2 en una sola, la 3 y 4, y la 5 y 6 concatenando su texto.</h3>"
   ]
  },
  {
   "cell_type": "code",
   "execution_count": 102,
   "metadata": {},
   "outputs": [
    {
     "name": "stdout",
     "output_type": "stream",
     "text": [
      "DATAFRAME CON COLUMNAS CONCATENADAS\n",
      "     1_2    3_4    5_6\n",
      "0  aa-ba  ca-da  ea-fa\n",
      "1  ab-bb  cb-db  eb-fb\n",
      "2  ac-bc  cc-dc  ec-fc\n",
      "3  ad-bd  cd-dd  ed-fd\n",
      "4  ae-be  ce-de  ee-fe\n",
      "5  af-bf  cf-df  ef-ff\n",
      "6  ag-bg  cg-dg  eg-fg\n",
      "7  ah-bh  ch-dh  eh-fh\n",
      "8  ai-bi  ci-di  ei-fi\n",
      "9  aj-bj  cj-dj  ej-fj\n"
     ]
    }
   ],
   "source": [
    "data_string = \"\"\"1,2,3,4,5,6\n",
    "aa,ba,ca,da,ea,fa\n",
    "ab,bb,cb,db,eb,fb\n",
    "ac,bc,cc,dc,ec,fc\n",
    "ad,bd,cd,dd,ed,fd\n",
    "ae,be,ce,de,ee,fe\n",
    "af,bf,cf,df,ef,ff\n",
    "ag,bg,cg,dg,eg,fg\n",
    "ah,bh,ch,dh,eh,fh\n",
    "ai,bi,ci,di,ei,fi\n",
    "aj,bj,cj,dj,ej,fj\n",
    "                 \"\"\"\n",
    "\n",
    "data = StringIO(data_string)\n",
    "df = pd.read_csv(data, sep=\",\")\n",
    "\n",
    "cols = [\"1\", \"2\"]\n",
    "df['1_2'] = df[cols].apply(lambda row: '-'.join(row.values.astype(str)), axis=1)\n",
    "\n",
    "cols = [\"3\", \"4\"]\n",
    "df['3_4'] = df[cols].apply(lambda row: '-'.join(row.values.astype(str)), axis=1)\n",
    "\n",
    "cols = [\"5\", \"6\"]\n",
    "df['5_6'] = df[cols].apply(lambda row: '-'.join(row.values.astype(str)), axis=1)\n",
    "\n",
    "print(\"DATAFRAME CON COLUMNAS CONCATENADAS\")\n",
    "print(df[[\"1_2\",\"3_4\",\"5_6\"]])"
   ]
  },
  {
   "cell_type": "markdown",
   "metadata": {},
   "source": [
    "<h3>13) Crear un Dataframe con 10 registros y 6 columnas llenas de números randomicos del 1 al 10 enteros, obtener la frecuencia de repeticion de los numeros enteros en cada columna</h3>"
   ]
  },
  {
   "cell_type": "code",
   "execution_count": 112,
   "metadata": {},
   "outputs": [
    {
     "name": "stdout",
     "output_type": "stream",
     "text": [
      "DATAFRAME\n",
      "   1   2   3   4   5   6\n",
      "0  8   5   7  10   5   2\n",
      "1  5   3   8   1   8  10\n",
      "2  6   8   2   2  10   9\n",
      "3  4   7   8   3  10   1\n",
      "4  9   7   3   8   7   8\n",
      "5  6   6   2   3   5   1\n",
      "6  1   8  10   8   8   4\n",
      "7  7   2   2   7   8   4\n",
      "8  2   7   9   7   9   7\n",
      "9  9  10  10   3   3   8\n",
      "COLUMNA 1\n",
      "9    2\n",
      "6    2\n",
      "8    1\n",
      "7    1\n",
      "5    1\n",
      "4    1\n",
      "2    1\n",
      "1    1\n",
      "Name: 1, dtype: int64\n",
      "COLUMNA 2\n",
      "7     3\n",
      "8     2\n",
      "10    1\n",
      "6     1\n",
      "5     1\n",
      "3     1\n",
      "2     1\n",
      "Name: 2, dtype: int64\n",
      "COLUMNA 3\n",
      "2     3\n",
      "10    2\n",
      "8     2\n",
      "9     1\n",
      "7     1\n",
      "3     1\n",
      "Name: 3, dtype: int64\n",
      "COLUMNA 4\n",
      "3     3\n",
      "8     2\n",
      "7     2\n",
      "10    1\n",
      "2     1\n",
      "1     1\n",
      "Name: 4, dtype: int64\n",
      "COLUMNA 5\n",
      "8     3\n",
      "10    2\n",
      "5     2\n",
      "9     1\n",
      "7     1\n",
      "3     1\n",
      "Name: 5, dtype: int64\n"
     ]
    }
   ],
   "source": [
    "df = pd.DataFrame(np.random.randint(1,11,size=(10, 6)), columns=list('123456'))\n",
    "print(\"DATAFRAME\")\n",
    "print(df)\n",
    "\n",
    "for x in range(1,6):\n",
    "    print(\"COLUMNA \" + str(x))\n",
    "    print(df[str(x)].value_counts())"
   ]
  },
  {
   "cell_type": "markdown",
   "metadata": {},
   "source": [
    "<h3>14) Crear un Dataframe con 10 registros y 3 columnas, A B C, llenas de números randomicos del 1 al 10 enteros. Crear una nueva columna con el calculo por fila (A * B ) / C</h3>"
   ]
  },
  {
   "cell_type": "code",
   "execution_count": 120,
   "metadata": {},
   "outputs": [
    {
     "name": "stdout",
     "output_type": "stream",
     "text": [
      "DATAFRAME\n",
      "    A  B  C\n",
      "0   1  3  3\n",
      "1   1  8  1\n",
      "2   4  4  3\n",
      "3   1  4  1\n",
      "4   9  8  8\n",
      "5   4  7  4\n",
      "6   8  9  7\n",
      "7  10  4  3\n",
      "8   3  5  7\n",
      "9  10  4  3\n",
      "DATAFRAME CON COLUMNA CALCULO\n",
      "    A  B  C    CALCULO\n",
      "0   1  3  3   1.000000\n",
      "1   1  8  1   8.000000\n",
      "2   4  4  3   5.333333\n",
      "3   1  4  1   4.000000\n",
      "4   9  8  8   9.000000\n",
      "5   4  7  4   7.000000\n",
      "6   8  9  7  10.285714\n",
      "7  10  4  3  13.333333\n",
      "8   3  5  7   2.142857\n",
      "9  10  4  3  13.333333\n"
     ]
    }
   ],
   "source": [
    "df = pd.DataFrame(np.random.randint(1,11,size=(10, 3)), columns=list('ABC'))\n",
    "print(\"DATAFRAME\")\n",
    "print(df)\n",
    "\n",
    "cols = [\"A\", \"B\", \"C\"]\n",
    "df['CALCULO'] = df[cols].apply(lambda row: int(row[\"A\"]) * int(row[\"B\"]) / int(row[\"C\"]), axis=1)\n",
    "\n",
    "print(\"DATAFRAME CON COLUMNA CALCULO\")\n",
    "print(df)"
   ]
  }
 ],
 "metadata": {
  "kernelspec": {
   "display_name": "Python 3",
   "language": "python",
   "name": "python3"
  },
  "language_info": {
   "codemirror_mode": {
    "name": "ipython",
    "version": 3
   },
   "file_extension": ".py",
   "mimetype": "text/x-python",
   "name": "python",
   "nbconvert_exporter": "python",
   "pygments_lexer": "ipython3",
   "version": "3.7.7"
  }
 },
 "nbformat": 4,
 "nbformat_minor": 4
}
