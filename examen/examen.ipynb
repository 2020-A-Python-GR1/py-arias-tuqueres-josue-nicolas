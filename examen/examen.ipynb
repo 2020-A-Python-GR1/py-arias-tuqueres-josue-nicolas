{
 "cells": [
  {
   "cell_type": "markdown",
   "metadata": {},
   "source": [
    "# EXAMEN"
   ]
  },
  {
   "cell_type": "code",
   "execution_count": 178,
   "metadata": {},
   "outputs": [],
   "source": [
    "import numpy as np\n",
    "import pandas as pd\n",
    "import scipy.ndimage\n",
    "from scipy import misc"
   ]
  },
  {
   "cell_type": "markdown",
   "metadata": {},
   "source": [
    "## 2) Crear un vector de ceros de tamaño 10"
   ]
  },
  {
   "cell_type": "code",
   "execution_count": 9,
   "metadata": {},
   "outputs": [
    {
     "name": "stdout",
     "output_type": "stream",
     "text": [
      "[0. 0. 0. 0. 0. 0. 0. 0. 0. 0.]\n"
     ]
    }
   ],
   "source": [
    "array_ceros = np.zeros(10)\n",
    "print(array_ceros)"
   ]
  },
  {
   "cell_type": "markdown",
   "metadata": {},
   "source": [
    "## 3) Crear un vector de ceros de tamaño 10 y el de la posicion 5 sea igual a 1"
   ]
  },
  {
   "cell_type": "code",
   "execution_count": 15,
   "metadata": {},
   "outputs": [
    {
     "name": "stdout",
     "output_type": "stream",
     "text": [
      "[0. 0. 0. 0. 0. 1. 0. 0. 0. 0.]\n"
     ]
    }
   ],
   "source": [
    "array_ceros_con_uno = np.zeros(10)\n",
    "array_ceros_con_uno[5] = 1\n",
    "print(array_ceros_con_uno)"
   ]
  },
  {
   "cell_type": "markdown",
   "metadata": {},
   "source": [
    "## 4) Cambiar el orden de un vector de 50 elementos, el de la posicion 1 es el de la 50 etc."
   ]
  },
  {
   "cell_type": "code",
   "execution_count": 20,
   "metadata": {},
   "outputs": [
    {
     "name": "stdout",
     "output_type": "stream",
     "text": [
      "[49 48 47 46 45 44 43 42 41 40 39 38 37 36 35 34 33 32 31 30 29 28 27 26\n",
      " 25 24 23 22 21 20 19 18 17 16 15 14 13 12 11 10  9  8  7  6  5  4  3  2\n",
      "  1  0]\n"
     ]
    }
   ],
   "source": [
    "array_50_elementos = np.arange(50)\n",
    "array_50_elementos_al_reves = array_50_elementos[::-1]\n",
    "print(array_50_elementos_al_reves)"
   ]
  },
  {
   "cell_type": "markdown",
   "metadata": {},
   "source": [
    "## 5) Crear una matriz de 3 x 3 con valores del cero al 8"
   ]
  },
  {
   "cell_type": "code",
   "execution_count": 23,
   "metadata": {},
   "outputs": [
    {
     "name": "stdout",
     "output_type": "stream",
     "text": [
      "[[0 1 2]\n",
      " [3 4 5]\n",
      " [6 7 8]]\n"
     ]
    }
   ],
   "source": [
    "matriz3x3 = np.arange(9).reshape(3,3)\n",
    "print(matriz3x3)"
   ]
  },
  {
   "cell_type": "markdown",
   "metadata": {},
   "source": [
    "## 6) Encontrar los indices que no sean cero en un arreglo"
   ]
  },
  {
   "cell_type": "code",
   "execution_count": 52,
   "metadata": {},
   "outputs": [
    {
     "name": "stdout",
     "output_type": "stream",
     "text": [
      "array_con_ceros [2 2 1 1 1 1 0 2 2 1]\n",
      "array_sin_ceros [ True  True  True  True  True  True False  True  True  True]\n",
      "indice 0\n",
      "indice 1\n",
      "indice 2\n",
      "indice 3\n",
      "indice 4\n",
      "indice 5\n",
      "indice 7\n",
      "indice 8\n",
      "indice 9\n"
     ]
    }
   ],
   "source": [
    "array_con_ceros =np.random.randint(3, size=10)\n",
    "print(\"array_con_ceros\", array_con_ceros)\n",
    "bolean_array_con_ceros = array_con_ceros!=0\n",
    "print(\"array_sin_ceros\", bolean_array_con_ceros)\n",
    "for i in range(len(array_con_ceros)):\n",
    "    if bolean_array_con_ceros[i]:\n",
    "        print(\"indice\", i)\n"
   ]
  },
  {
   "cell_type": "markdown",
   "metadata": {},
   "source": [
    "## 7) Crear una matriz de identidad 3 x 3 "
   ]
  },
  {
   "cell_type": "code",
   "execution_count": 54,
   "metadata": {},
   "outputs": [
    {
     "name": "stdout",
     "output_type": "stream",
     "text": [
      "[[1. 0. 0.]\n",
      " [0. 1. 0.]\n",
      " [0. 0. 1.]]\n"
     ]
    }
   ],
   "source": [
    "matriz3x3_identidad = np.eye(3)\n",
    "print(matriz3x3_identidad)"
   ]
  },
  {
   "cell_type": "markdown",
   "metadata": {},
   "source": [
    "## 8) Crear una matriz 3 x 3 x 3 con valores randomicos"
   ]
  },
  {
   "cell_type": "code",
   "execution_count": 60,
   "metadata": {},
   "outputs": [
    {
     "name": "stdout",
     "output_type": "stream",
     "text": [
      "[[[7 2 1]\n",
      "  [0 8 8]\n",
      "  [1 9 4]]\n",
      "\n",
      " [[7 2 8]\n",
      "  [9 3 4]\n",
      "  [7 4 0]]\n",
      "\n",
      " [[3 9 7]\n",
      "  [7 4 0]\n",
      "  [6 5 5]]]\n"
     ]
    }
   ],
   "source": [
    "matriz3x3x3 =np.random.randint(10, size=27).reshape(3,3,3)\n",
    "print(matriz3x3x3)"
   ]
  },
  {
   "cell_type": "markdown",
   "metadata": {},
   "source": [
    "## 10) Sacar los colores RGB unicos en una imagen (cuales rgb existen ej: 0, 0, 0 - 255,255,255 -> 2 colores)"
   ]
  },
  {
   "cell_type": "code",
   "execution_count": 179,
   "metadata": {},
   "outputs": [],
   "source": [
    "mapache = misc.face()"
   ]
  },
  {
   "cell_type": "markdown",
   "metadata": {},
   "source": [
    "## 11) ¿Como crear una serie de una lista, diccionario o arreglo?"
   ]
  },
  {
   "cell_type": "code",
   "execution_count": 67,
   "metadata": {},
   "outputs": [
    {
     "name": "stdout",
     "output_type": "stream",
     "text": [
      "0     a\n",
      "1     b\n",
      "2     c\n",
      "3     e\n",
      "4     d\n",
      "5     f\n",
      "6     g\n",
      "7     h\n",
      "8     i\n",
      "9     j\n",
      "10    k\n",
      "11    l\n",
      "12    m\n",
      "13    n\n",
      "14    o\n",
      "15    p\n",
      "16    q\n",
      "17    r\n",
      "18    s\n",
      "19    t\n",
      "20    u\n",
      "21    v\n",
      "22    w\n",
      "23    x\n",
      "24    y\n",
      "25    z\n",
      "dtype: object\n",
      "0      0\n",
      "1      1\n",
      "2      2\n",
      "3      3\n",
      "4      4\n",
      "5      5\n",
      "6      6\n",
      "7      7\n",
      "8      8\n",
      "9      9\n",
      "10    10\n",
      "11    11\n",
      "12    12\n",
      "13    13\n",
      "14    14\n",
      "15    15\n",
      "16    16\n",
      "17    17\n",
      "18    18\n",
      "19    19\n",
      "20    20\n",
      "21    21\n",
      "22    22\n",
      "23    23\n",
      "24    24\n",
      "25    25\n",
      "dtype: int32\n",
      "a     0\n",
      "b     1\n",
      "c     2\n",
      "e     3\n",
      "d     4\n",
      "f     5\n",
      "g     6\n",
      "h     7\n",
      "i     8\n",
      "j     9\n",
      "k    10\n",
      "l    11\n",
      "m    12\n",
      "n    13\n",
      "o    14\n",
      "p    15\n",
      "q    16\n",
      "r    17\n",
      "s    18\n",
      "t    19\n",
      "u    20\n",
      "v    21\n",
      "w    22\n",
      "x    23\n",
      "y    24\n",
      "z    25\n",
      "dtype: int64\n"
     ]
    }
   ],
   "source": [
    "mylist = list('abcedfghijklmnopqrstuvwxyz')\n",
    "myarr = np.arange(26)\n",
    "mydict = dict(zip(mylist, myarr))\n",
    "serie_lista = pd.Series(mylist)\n",
    "serie_tupla = pd.Series(myarr)\n",
    "serie_diccionario = pd.Series(mydict)\n",
    "print(serie_lista)\n",
    "print(serie_tupla)\n",
    "print(serie_diccionario)"
   ]
  },
  {
   "cell_type": "markdown",
   "metadata": {},
   "source": [
    "## 12) ¿Como convertir el indice de una serie en una columna de un DataFrame?"
   ]
  },
  {
   "cell_type": "code",
   "execution_count": 76,
   "metadata": {},
   "outputs": [
    {
     "name": "stdout",
     "output_type": "stream",
     "text": [
      "    0 columna_indice\n",
      "a   0              a\n",
      "b   1              b\n",
      "c   2              c\n",
      "e   3              e\n",
      "d   4              d\n",
      "f   5              f\n",
      "g   6              g\n",
      "h   7              h\n",
      "i   8              i\n",
      "j   9              j\n",
      "k  10              k\n",
      "l  11              l\n",
      "m  12              m\n",
      "n  13              n\n",
      "o  14              o\n",
      "p  15              p\n",
      "q  16              q\n",
      "r  17              r\n",
      "s  18              s\n",
      "t  19              t\n",
      "u  20              u\n",
      "v  21              v\n",
      "w  22              w\n",
      "x  23              x\n",
      "y  24              y\n",
      "z  25              z\n"
     ]
    }
   ],
   "source": [
    "ser = pd.Series(mydict) \n",
    "df1 = pd.DataFrame(ser)\n",
    "df1[\"columna_indice\"] = df1.index\n",
    "print(df1)"
   ]
  },
  {
   "cell_type": "markdown",
   "metadata": {},
   "source": [
    "## 13) ¿Como combinar varias series para hacer un DataFrame?"
   ]
  },
  {
   "cell_type": "code",
   "execution_count": 89,
   "metadata": {},
   "outputs": [
    {
     "name": "stdout",
     "output_type": "stream",
     "text": [
      "   ser1  ser2\n",
      "0     a     0\n",
      "1     b     1\n",
      "2     c     2\n",
      "3     e     3\n",
      "4     d     4\n",
      "5     f     5\n",
      "6     g     6\n",
      "7     h     7\n",
      "8     i     8\n",
      "9     j     9\n",
      "10    k    10\n",
      "11    l    11\n",
      "12    m    12\n",
      "13    n    13\n",
      "14    o    14\n",
      "15    p    15\n",
      "16    q    16\n",
      "17    r    17\n",
      "18    s    18\n",
      "19    t    19\n",
      "20    u    20\n",
      "21    v    21\n",
      "22    w    22\n",
      "23    x    23\n",
      "24    y    24\n",
      "25    z    25\n"
     ]
    }
   ],
   "source": [
    "ser1 = pd.Series(list('abcedfghijklmnopqrstuvwxyz'))\n",
    "ser2 = pd.Series(np.arange(26))\n",
    "\n",
    "df_combinado = pd.DataFrame(dict(ser1 = ser1, ser2 = ser2))\n",
    "\n",
    "print(df_combinado)"
   ]
  },
  {
   "cell_type": "markdown",
   "metadata": {},
   "source": [
    "## 14) ¿Como obtener los items que esten en una serie A y no en una serie B?"
   ]
  },
  {
   "cell_type": "code",
   "execution_count": 102,
   "metadata": {},
   "outputs": [
    {
     "name": "stdout",
     "output_type": "stream",
     "text": [
      "[1 2 3]\n"
     ]
    }
   ],
   "source": [
    "ser1 = pd.Series([1, 2, 3, 4, 5])\n",
    "ser2 = pd.Series([4, 5, 6, 7, 8])\n",
    "main_list = np.setdiff1d(ser1,ser2)\n",
    "print(main_list)"
   ]
  },
  {
   "cell_type": "markdown",
   "metadata": {},
   "source": [
    "## 15) ¿Como obtener los items que no son comunes en una serie A y serie B?"
   ]
  },
  {
   "cell_type": "code",
   "execution_count": 108,
   "metadata": {},
   "outputs": [
    {
     "name": "stdout",
     "output_type": "stream",
     "text": [
      "[1 2 3 6 7 8]\n"
     ]
    }
   ],
   "source": [
    "ser1 = pd.Series([1, 2, 3, 4, 5])\n",
    "ser2 = pd.Series([4, 5, 6, 7, 8])\n",
    "main_list1 = np.setdiff1d(ser1,ser2)\n",
    "main_list2 = np.setdiff1d(ser2,ser1)\n",
    "main_concat = np.concatenate((main_list1, main_list2), axis=0)\n",
    "print(main_concat)"
   ]
  },
  {
   "cell_type": "markdown",
   "metadata": {},
   "source": [
    "## 16) ¿Como obtener el numero de veces que se repite un valor en una serie?"
   ]
  },
  {
   "cell_type": "code",
   "execution_count": 119,
   "metadata": {},
   "outputs": [
    {
     "data": {
      "text/plain": [
       "a    4\n",
       "b    3\n",
       "c    4\n",
       "d    4\n",
       "e    2\n",
       "f    3\n",
       "g    6\n",
       "h    4\n",
       "dtype: int64"
      ]
     },
     "execution_count": 119,
     "metadata": {},
     "output_type": "execute_result"
    }
   ],
   "source": [
    "ser = pd.Series(np.take(list('abcdefgh'), np.random.randint(8, size=30)))\n",
    "ser.groupby(ser).size()"
   ]
  },
  {
   "cell_type": "markdown",
   "metadata": {},
   "source": [
    "## 17) ¿Como mantener los 2 valores mas repetidos de una serie, y a los demas valores cambiarles por 0 ?"
   ]
  },
  {
   "cell_type": "code",
   "execution_count": 151,
   "metadata": {},
   "outputs": [
    {
     "name": "stdout",
     "output_type": "stream",
     "text": [
      "0     1\n",
      "1     3\n",
      "2     3\n",
      "3     2\n",
      "4     2\n",
      "5     1\n",
      "6     4\n",
      "7     1\n",
      "8     3\n",
      "9     3\n",
      "10    4\n",
      "11    2\n",
      "dtype: int32\n",
      "max [4 3]\n",
      "0     1\n",
      "1     0\n",
      "2     0\n",
      "3     2\n",
      "4     2\n",
      "5     1\n",
      "6     0\n",
      "7     1\n",
      "8     0\n",
      "9     0\n",
      "10    0\n",
      "11    2\n",
      "dtype: int32\n"
     ]
    }
   ],
   "source": [
    "np.random.RandomState(100)\n",
    "ser = pd.Series(np.random.randint(1, 5, [12]))\n",
    "print(ser)\n",
    "max_values = ser.groupby(ser).size().sort_values(ascending=False)[:2].to_numpy()\n",
    "print(\"max\",max_values)\n",
    "for x in range(len(ser)):\n",
    "    if (ser[x] in max_values):\n",
    "        ser[x] = 0\n",
    "        \n",
    "print(ser)"
   ]
  },
  {
   "cell_type": "markdown",
   "metadata": {},
   "source": [
    "## 18) ¿Como transformar una serie de un arreglo de numpy a un DataFrame con un `shape` definido?"
   ]
  },
  {
   "cell_type": "code",
   "execution_count": 163,
   "metadata": {},
   "outputs": [
    {
     "name": "stdout",
     "output_type": "stream",
     "text": [
      "[[3 6 7 2 6]\n",
      " [5 9 6 1 7]\n",
      " [8 4 9 5 3]\n",
      " [1 8 8 9 1]\n",
      " [4 6 8 3 9]\n",
      " [2 1 5 2 6]\n",
      " [8 9 8 6 2]]\n",
      "   0  1  2  3  4\n",
      "0  3  6  7  2  6\n",
      "1  5  9  6  1  7\n",
      "2  8  4  9  5  3\n",
      "3  1  8  8  9  1\n",
      "4  4  6  8  3  9\n",
      "5  2  1  5  2  6\n",
      "6  8  9  8  6  2\n"
     ]
    }
   ],
   "source": [
    "ser = pd.Series(np.random.randint(1, 10, 35)).to_numpy().reshape(7,5)\n",
    "print(ser)\n",
    "print(pd.DataFrame(ser))\n"
   ]
  },
  {
   "cell_type": "markdown",
   "metadata": {},
   "source": [
    "## 19) ¿Obtener los valores de una serie conociendo la posicion por indice?"
   ]
  },
  {
   "cell_type": "code",
   "execution_count": 165,
   "metadata": {},
   "outputs": [
    {
     "name": "stdout",
     "output_type": "stream",
     "text": [
      "a\n",
      "e\n",
      "i\n",
      "o\n",
      "u\n"
     ]
    }
   ],
   "source": [
    "ser = pd.Series(list('abcdefghijklmnopqrstuvwxyz'))\n",
    "pos = [0, 4, 8, 14, 20]\n",
    "# a e i o u\n",
    "\n",
    "for x in range(len(ser)):\n",
    "    if x in pos:\n",
    "        print(ser[x])"
   ]
  },
  {
   "cell_type": "markdown",
   "metadata": {},
   "source": [
    "## 20) ¿Como anadir series vertical u horizontalmente a un DataFrame?"
   ]
  },
  {
   "cell_type": "code",
   "execution_count": 173,
   "metadata": {},
   "outputs": [
    {
     "name": "stdout",
     "output_type": "stream",
     "text": [
      "   0  1\n",
      "0  0  a\n",
      "1  1  b\n",
      "2  2  c\n",
      "3  3  d\n",
      "4  4  e\n"
     ]
    }
   ],
   "source": [
    "ser1 = pd.Series(range(5))\n",
    "ser2 = pd.Series(list('abcde'))\n",
    "print(pd.concat([ser1, ser2], axis= 1))\n"
   ]
  },
  {
   "cell_type": "markdown",
   "metadata": {},
   "source": [
    "## 21)¿Obtener la media de una serie agrupada por otra serie?"
   ]
  },
  {
   "cell_type": "code",
   "execution_count": 174,
   "metadata": {},
   "outputs": [],
   "source": []
  },
  {
   "cell_type": "markdown",
   "metadata": {},
   "source": [
    "## 22)¿Como importar solo columnas especificas de un archivo csv?\n"
   ]
  },
  {
   "cell_type": "code",
   "execution_count": 177,
   "metadata": {},
   "outputs": [
    {
     "name": "stdout",
     "output_type": "stream",
     "text": [
      "      crim    zn\n",
      "0  0.00632  18.0\n",
      "1  0.02731   0.0\n",
      "2  0.02729   0.0\n",
      "3  0.03237   0.0\n",
      "4  0.06905   0.0\n",
      "5  0.02985   0.0\n",
      "6  0.08829  12.5\n",
      "7  0.14455  12.5\n",
      "8  0.21124  12.5\n",
      "9  0.17004  12.5\n"
     ]
    }
   ],
   "source": [
    "path = \"https://raw.githubusercontent.com/selva86/datasets/master/BostonHousing.csv\"\n",
    "columnas = [\"crim\", \"zn\"]\n",
    "df2 = pd.read_csv(\n",
    "    path,\n",
    "    nrows=10,\n",
    "    usecols = columnas)\n",
    "print(df2)"
   ]
  },
  {
   "cell_type": "code",
   "execution_count": null,
   "metadata": {},
   "outputs": [],
   "source": []
  }
 ],
 "metadata": {
  "kernelspec": {
   "display_name": "Python 3",
   "language": "python",
   "name": "python3"
  },
  "language_info": {
   "codemirror_mode": {
    "name": "ipython",
    "version": 3
   },
   "file_extension": ".py",
   "mimetype": "text/x-python",
   "name": "python",
   "nbconvert_exporter": "python",
   "pygments_lexer": "ipython3",
   "version": "3.7.6"
  }
 },
 "nbformat": 4,
 "nbformat_minor": 4
}
