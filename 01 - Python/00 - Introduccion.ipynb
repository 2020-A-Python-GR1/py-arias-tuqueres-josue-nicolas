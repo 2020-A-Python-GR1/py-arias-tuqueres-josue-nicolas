{
 "cells": [
  {
   "cell_type": "markdown",
   "metadata": {},
   "source": [
    "# JupyterLab\n",
    "\n",
    "```javascript\n",
    "var s = \"JavaScript syntax highlighting\";\n",
    "alert(s);\n",
    "```\n",
    " \n",
    "```python\n",
    "s = \"Python syntax highlighting\"\n",
    "print(s)\n",
    "```\n",
    " \n",
    "```\n",
    "No language indicated, so no syntax highlighting. \n",
    "But let's throw in a <b>tag</b>.\n",
    "```\n",
    "\n",
    "![alt text](https://github.com/adam-p/markdown-here/raw/master/src/common/images/icon48.png \"Logo Title Text 1\")"
   ]
  },
  {
   "cell_type": "code",
   "execution_count": 5,
   "metadata": {},
   "outputs": [
    {
     "name": "stdout",
     "output_type": "stream",
     "text": [
      "Hola Mundo\n"
     ]
    }
   ],
   "source": [
    "print(\"Hola Mundo\")"
   ]
  },
  {
   "cell_type": "code",
   "execution_count": 6,
   "metadata": {},
   "outputs": [
    {
     "name": "stdout",
     "output_type": "stream",
     "text": [
      "Hola Mundo\n"
     ]
    }
   ],
   "source": [
    "print(\"Hola Mundo\")"
   ]
  },
  {
   "cell_type": "code",
   "execution_count": 4,
   "metadata": {},
   "outputs": [
    {
     "name": "stdout",
     "output_type": "stream",
     "text": [
      "Hola Mundo\n"
     ]
    }
   ],
   "source": [
    "print(\"Hola Mundo\")"
   ]
  },
  {
   "cell_type": "markdown",
   "metadata": {},
   "source": [
    "# Python es no tipado!\n",
    "## Variables primitivas"
   ]
  },
  {
   "cell_type": "code",
   "execution_count": 2,
   "metadata": {},
   "outputs": [],
   "source": [
    "entero = 4\n",
    "decimales = 1.1\n",
    "nombre = \"Josue\"\n",
    "#no utilizar el estandar de camelCase\n",
    "segundo_nombre = \"Nicolas\" # segundoNombre --> MAL (Solo es pate de las buenas practicas)\n",
    "apellido = \"Arias\"\n",
    "casado = False\n",
    "estudiante = True\n",
    "hijos = None # en otros lenguajes se lo conoce como vacio o null\n"
   ]
  },
  {
   "cell_type": "markdown",
   "metadata": {},
   "source": [
    "### Para verificar el tipo de dato de una variable se utiliza type()"
   ]
  },
  {
   "cell_type": "code",
   "execution_count": 11,
   "metadata": {},
   "outputs": [
    {
     "name": "stdout",
     "output_type": "stream",
     "text": [
      "<class 'int'>\n",
      "<class 'float'>\n",
      "<class 'str'>\n",
      "<class 'str'>\n",
      "<class 'str'>\n",
      "<class 'bool'>\n",
      "<class 'bool'>\n",
      "<class 'NoneType'>\n"
     ]
    }
   ],
   "source": [
    "print(type(entero))\n",
    "print(type(decimales))\n",
    "print(type(nombre))\n",
    "print(type(segundo_nombre))\n",
    "print(type(apellido))\n",
    "print(type(casado))\n",
    "print(type(estudiante))\n",
    "print(type(hijos))"
   ]
  },
  {
   "cell_type": "markdown",
   "metadata": {},
   "source": [
    "### String con varias lineas"
   ]
  },
  {
   "cell_type": "code",
   "execution_count": 12,
   "metadata": {},
   "outputs": [
    {
     "name": "stdout",
     "output_type": "stream",
     "text": [
      "\n",
      "Tables aren't part of the core Markdown spec, but they are part of GFM and Markdown Here supports them. \n",
      "They are an easy way of adding tables to your email -- a task that would otherwise require copy-pasting \n",
      "from another application.\n",
      "\n"
     ]
    }
   ],
   "source": [
    "cadena_de_texto = \"\"\"\n",
    "Tables aren't part of the core Markdown spec, but they are part of GFM and Markdown Here supports them. \n",
    "They are an easy way of adding tables to your email -- a task that would otherwise require copy-pasting \n",
    "from another application.\n",
    "\"\"\"\n",
    "#Nota: de esta forma tambien se puede escribir comentarios con varias lineas\n",
    "print(cadena_de_texto)\n",
    "print(cadena_de_texto)"
   ]
  },
  {
   "cell_type": "markdown",
   "metadata": {},
   "source": [
    "### Al ser un lenguaje no tipado una variable puede cambiar de tipo"
   ]
  },
  {
   "cell_type": "code",
   "execution_count": 3,
   "metadata": {},
   "outputs": [
    {
     "name": "stdout",
     "output_type": "stream",
     "text": [
      "4\n",
      "Josue\n"
     ]
    }
   ],
   "source": [
    "print(entero)\n",
    "entero =decimales\n",
    "entero = hijos\n",
    "entero = casado\n",
    "entero = nombre\n",
    "print(entero)"
   ]
  },
  {
   "cell_type": "markdown",
   "metadata": {},
   "source": [
    "### Condiciones\n",
    "### Truty - Falsy"
   ]
  },
  {
   "cell_type": "code",
   "execution_count": 12,
   "metadata": {},
   "outputs": [
    {
     "name": "stdout",
     "output_type": "stream",
     "text": [
      "Falsy para \"\"\n",
      "Truty para \"Nicolas\"\n",
      "Falsy para None\n",
      "Truty para 1\n",
      "Falsy para 0\n",
      "Truty para -1\n",
      "Truty para 1.1\n",
      "Truty para -1.2\n",
      "Falsy para Tupla vacía\n",
      "Truty para Tupla con valores\n",
      "Falsy para Lista vacía\n",
      "Truty para Lista con valores\n",
      "Falsy para Diccionario vacía\n",
      "Truty para Diccionario con valores\n"
     ]
    }
   ],
   "source": [
    "tuplas = (1,2,3) # Arreglos que no se pueden modificar\n",
    "listas = [1,2,3] # Arreglos que se pueden modificar\n",
    "diccionario = {\n",
    "    \"Nombre\":\"Nicolas\"\n",
    "}\n",
    "\n",
    "# Para verificar si una variable esta vacía o si tiene un valor asignado (solo strings)\n",
    "\n",
    "if '': #Falsy\n",
    "    print('Truty para \"\"')\n",
    "else:\n",
    "    print('Falsy para \"\"')\n",
    "    \n",
    "if 'Nicolas': #Truty\n",
    "    print('Truty para \"Nicolas\"')\n",
    "else:\n",
    "    print('Falsy para \"Nicolas\"')\n",
    "    \n",
    "# None type\n",
    "variable = None\n",
    "if(variable):\n",
    "    print('Truty para None')\n",
    "else:\n",
    "    print('Falsy para None')\n",
    "\n",
    "# Numeros\n",
    "if(1):\n",
    "    print('Truty para 1')\n",
    "else:\n",
    "    print('Falsy para 1')\n",
    "if(0): #Falsy\n",
    "    print('Truty para 0')\n",
    "else:\n",
    "    print('Falsy para 0')\n",
    "if(-1): #Truty \n",
    "    print('Truty para -1')\n",
    "else: \n",
    "    print('Falsy para -1')\n",
    "    \n",
    "# Decimales\n",
    "if(1.1): #Truty\n",
    "    print('Truty para 1.1')\n",
    "else:\n",
    "    print('Falsy para 1.1')\n",
    "if(-1.2): #Truty\n",
    "    print('Truty para -1.2')\n",
    "else:\n",
    "    print('Falsy para -1.2')\n",
    "    \n",
    "# Tuplas\n",
    "if(()): #Falsy\n",
    "    print('Truty para Tupla vacía')\n",
    "else:\n",
    "    print('Falsy para Tupla vacía')\n",
    "if((1,2,3)): #Truty\n",
    "    print('Truty para Tupla con valores')\n",
    "else:\n",
    "    print('Falsy para Tuplas con valores')\n",
    "    \n",
    "# Lista\n",
    "if([]): #Falsy\n",
    "    print('Truty para Lista vacía')\n",
    "else:\n",
    "    print('Falsy para Lista vacía')\n",
    "if([1,2,3]): #Truty\n",
    "    print('Truty para Lista con valores')\n",
    "else:\n",
    "    print('Falsy para Lista con valores')\n",
    "\n",
    "# Diccionario\n",
    "if({}): #Falsy\n",
    "    print('Truty para Diccionario vacía')\n",
    "else:\n",
    "    print('Falsy para Diccionario vacía')\n",
    "if({\"nombre\": \"Nicolas\"}): #Truty\n",
    "    print('Truty para Diccionario con valores')\n",
    "else:\n",
    "    print('Falsy para Diccionario con valores')\n",
    "\n",
    "\n",
    "    "
   ]
  },
  {
   "cell_type": "markdown",
   "metadata": {},
   "source": [
    "### Listas"
   ]
  },
  {
   "cell_type": "code",
   "execution_count": 2,
   "metadata": {},
   "outputs": [],
   "source": [
    "arreglo = [1, 2, 3, 4, 5, 6, 7, 8, 9, 10] #Definición de un arreglo"
   ]
  },
  {
   "cell_type": "code",
   "execution_count": 9,
   "metadata": {},
   "outputs": [
    {
     "name": "stdout",
     "output_type": "stream",
     "text": [
      "[1, 2, 3]\n",
      "[6, 7, 8, 9, 10]\n",
      "[1, 2, 3, 4, 5, 6, 7]\n",
      "6\n",
      "[4, 5, 6, 7, 8]\n",
      "[3, 4, 5, 6, 7, 8]\n",
      "[7, 8, 9]\n",
      "[4, 5, 6, 7, 8, 9, 10]\n",
      "[1, 2, 3, 4, 5, 6, 7]\n",
      "[10, 9, 8, 7, 6, 5, 4, 3, 2, 1]\n"
     ]
    }
   ],
   "source": [
    "print(arreglo[0:3]) #[0:3] toma los valores del indice 0, 1 y 2 (el indice 3 se excluye)\n",
    "print(arreglo[5:]) #Hasta el final\n",
    "print(arreglo[:7]) #Desde el principio\n",
    "print(arreglo[-5]) #Indice negativo empieza FINAL\n",
    "print(arreglo[3:-2]) #Siempre omite el de  la derecha\n",
    "print(arreglo[-8:8])\n",
    "print(arreglo[-4:-1])\n",
    "print(arreglo[-7:])\n",
    "print(arreglo[:-3])\n",
    "print(arreglo[::-1]) #Toda la lista\n"
   ]
  },
  {
   "cell_type": "markdown",
   "metadata": {},
   "source": [
    "### Tuplas"
   ]
  },
  {
   "cell_type": "code",
   "execution_count": 43,
   "metadata": {},
   "outputs": [
    {
     "data": {
      "text/plain": [
       "(6, 7, 8, 9)"
      ]
     },
     "execution_count": 43,
     "metadata": {},
     "output_type": "execute_result"
    }
   ],
   "source": [
    "arregloTupla = (1,2,3,4,5,6,7,8,9,10)\n",
    "arregloTupla[5:9]"
   ]
  },
  {
   "cell_type": "markdown",
   "metadata": {},
   "source": [
    "### Diccionarios"
   ]
  },
  {
   "cell_type": "code",
   "execution_count": 46,
   "metadata": {},
   "outputs": [
    {
     "data": {
      "text/plain": [
       "'Nicolas'"
      ]
     },
     "execution_count": 46,
     "metadata": {},
     "output_type": "execute_result"
    }
   ],
   "source": [
    "diccionario = {\n",
    "    \"Nombre\":\"Nicolas\",\n",
    "    \"Apellido\":\"Arias\",\n",
    "    \"suelado\":1.2\n",
    "}\n",
    "diccionario[\"Nombre\"]"
   ]
  },
  {
   "cell_type": "markdown",
   "metadata": {},
   "source": [
    "#### In, forma de buscar un valor en un objeto (lista, tuplas, diccionarios)"
   ]
  },
  {
   "cell_type": "code",
   "execution_count": 62,
   "metadata": {},
   "outputs": [
    {
     "name": "stdout",
     "output_type": "stream",
     "text": [
      "True\n",
      "True\n"
     ]
    }
   ],
   "source": [
    "print(10 in arreglo)\n",
    "print(\"Nombre\" in diccionario) #Para diccionarios se debe trabajar con las llaves"
   ]
  },
  {
   "cell_type": "code",
   "execution_count": 63,
   "metadata": {},
   "outputs": [
    {
     "name": "stdout",
     "output_type": "stream",
     "text": [
      "<class 'bool'>\n"
     ]
    }
   ],
   "source": [
    "print(type(12 in arreglo))"
   ]
  },
  {
   "cell_type": "markdown",
   "metadata": {},
   "source": [
    "#### len, tamaño de un objeto (lista, tupla, diccionario)"
   ]
  },
  {
   "cell_type": "code",
   "execution_count": 65,
   "metadata": {},
   "outputs": [
    {
     "name": "stdout",
     "output_type": "stream",
     "text": [
      "10\n",
      "10\n",
      "0\n"
     ]
    }
   ],
   "source": [
    "print(len(arreglo))\n",
    "print(len(arregloTupla))\n",
    "print(len({}))"
   ]
  },
  {
   "cell_type": "markdown",
   "metadata": {},
   "source": [
    "#### Funciones de una lista y tuplas"
   ]
  },
  {
   "cell_type": "code",
   "execution_count": 69,
   "metadata": {},
   "outputs": [
    {
     "name": "stdout",
     "output_type": "stream",
     "text": [
      "[2, 2, 3, 4, 5, 6, 7, 8, 9, 10]\n"
     ]
    }
   ],
   "source": [
    "#arregloTupla[0] = 2 No se puede modificar los valores en una tuplas\n",
    "arreglo[0] = 2\n",
    "print(arreglo)"
   ]
  },
  {
   "cell_type": "code",
   "execution_count": 70,
   "metadata": {},
   "outputs": [],
   "source": [
    "#arreglo.pop(4) Remover un item en una posicion en especifico\n",
    "#arreglo.append Agregar un elemento al final de la lista\n",
    "#arreglo.insert(4) Agregar un elemento en una posicion en especifico"
   ]
  },
  {
   "cell_type": "markdown",
   "metadata": {},
   "source": [
    "#### Iteradores"
   ]
  },
  {
   "cell_type": "code",
   "execution_count": 71,
   "metadata": {},
   "outputs": [
    {
     "name": "stdout",
     "output_type": "stream",
     "text": [
      "2\n",
      "2\n",
      "3\n",
      "4\n",
      "5\n",
      "6\n",
      "7\n",
      "8\n",
      "9\n",
      "10\n"
     ]
    }
   ],
   "source": [
    "for numeroLista in arreglo:\n",
    "    print(numeroLista)"
   ]
  },
  {
   "cell_type": "code",
   "execution_count": 72,
   "metadata": {},
   "outputs": [
    {
     "name": "stdout",
     "output_type": "stream",
     "text": [
      "1\n",
      "2\n",
      "3\n",
      "4\n",
      "5\n",
      "6\n",
      "7\n",
      "8\n",
      "9\n",
      "10\n"
     ]
    }
   ],
   "source": [
    "for numeroTupla in arregloTupla:\n",
    "    print(numeroTupla)"
   ]
  },
  {
   "cell_type": "code",
   "execution_count": 76,
   "metadata": {},
   "outputs": [
    {
     "name": "stdout",
     "output_type": "stream",
     "text": [
      "Nombre Nicolas\n",
      "Apellido Arias\n",
      "suelado 1.2\n"
     ]
    }
   ],
   "source": [
    "for x,y in diccionario.items():\n",
    "    print(x,y)"
   ]
  },
  {
   "cell_type": "code",
   "execution_count": 79,
   "metadata": {},
   "outputs": [
    {
     "name": "stdout",
     "output_type": "stream",
     "text": [
      "0\n",
      "-1\n",
      "-2\n",
      "-3\n",
      "-4\n"
     ]
    }
   ],
   "source": [
    "contador = 0\n",
    "while contador > -5:\n",
    "    print(contador)\n",
    "    contador -= 1"
   ]
  },
  {
   "cell_type": "code",
   "execution_count": 89,
   "metadata": {},
   "outputs": [],
   "source": [
    "nicolas = {\n",
    "    True: \"Nicolas\",\n",
    "    False: \"Arias\",\n",
    "    1: 12.2,\n",
    "    1.1: 89,\n",
    "    \"edad\": 31,\n",
    "    \"mascotas\": [{\"nombre\":\"cachetes\"}],\n",
    "    None: None\n",
    "}"
   ]
  },
  {
   "cell_type": "code",
   "execution_count": 90,
   "metadata": {},
   "outputs": [
    {
     "data": {
      "text/plain": [
       "{True: 12.2,\n",
       " False: 'Arias',\n",
       " 1.1: 89,\n",
       " 'edad': 31,\n",
       " 'mascotas': [{'nombre': 'cachetes'}],\n",
       " None: None}"
      ]
     },
     "execution_count": 90,
     "metadata": {},
     "output_type": "execute_result"
    }
   ],
   "source": [
    "nicolas"
   ]
  },
  {
   "cell_type": "code",
   "execution_count": 91,
   "metadata": {},
   "outputs": [
    {
     "data": {
      "text/plain": [
       "12.2"
      ]
     },
     "execution_count": 91,
     "metadata": {},
     "output_type": "execute_result"
    }
   ],
   "source": [
    "nicolas[True]"
   ]
  },
  {
   "cell_type": "markdown",
   "metadata": {},
   "source": [
    "#### Modificiar y agregar valores en un diccionario"
   ]
  },
  {
   "cell_type": "code",
   "execution_count": 98,
   "metadata": {},
   "outputs": [
    {
     "data": {
      "text/plain": [
       "{True: 12.2,\n",
       " False: 'Arias',\n",
       " 1.1: 89,\n",
       " 'edad': 22,\n",
       " 'mascotas': [{'nombre': 'Panda'}],\n",
       " None: None,\n",
       " 'apellido': 'Arias'}"
      ]
     },
     "execution_count": 98,
     "metadata": {},
     "output_type": "execute_result"
    }
   ],
   "source": [
    "nicolas[\"edad\"] = 22\n",
    "nicolas[\"apellido\"] = \"Arias\"\n",
    "nicolas[\"mascotas\"][0][\"nombre\"] = \"Panda\"\n",
    "nicolas"
   ]
  },
  {
   "cell_type": "code",
   "execution_count": 99,
   "metadata": {},
   "outputs": [
    {
     "data": {
      "text/plain": [
       "dict_keys([True, False, 1.1, 'edad', 'mascotas', None, 'apellido'])"
      ]
     },
     "execution_count": 99,
     "metadata": {},
     "output_type": "execute_result"
    }
   ],
   "source": [
    "nicolas.keys()"
   ]
  },
  {
   "cell_type": "code",
   "execution_count": 100,
   "metadata": {},
   "outputs": [
    {
     "data": {
      "text/plain": [
       "dict_values([12.2, 'Arias', 89, 22, [{'nombre': 'Panda'}], None, 'Arias'])"
      ]
     },
     "execution_count": 100,
     "metadata": {},
     "output_type": "execute_result"
    }
   ],
   "source": [
    "nicolas.values()"
   ]
  },
  {
   "cell_type": "code",
   "execution_count": 102,
   "metadata": {},
   "outputs": [
    {
     "name": "stdout",
     "output_type": "stream",
     "text": [
      "<class 'dict_keys'>\n"
     ]
    }
   ],
   "source": [
    "print(type(nicolas.keys()))"
   ]
  },
  {
   "cell_type": "code",
   "execution_count": 103,
   "metadata": {},
   "outputs": [
    {
     "name": "stdout",
     "output_type": "stream",
     "text": [
      "True\n",
      "False\n",
      "1.1\n",
      "edad\n",
      "mascotas\n",
      "None\n",
      "apellido\n"
     ]
    }
   ],
   "source": [
    "for llave in nicolas.keys():\n",
    "    print(llave)"
   ]
  },
  {
   "cell_type": "code",
   "execution_count": 104,
   "metadata": {},
   "outputs": [
    {
     "name": "stdout",
     "output_type": "stream",
     "text": [
      "12.2\n",
      "Arias\n",
      "89\n",
      "22\n",
      "[{'nombre': 'Panda'}]\n",
      "None\n",
      "Arias\n"
     ]
    }
   ],
   "source": [
    "for llave in nicolas.values():\n",
    "    print(llave)"
   ]
  },
  {
   "cell_type": "markdown",
   "metadata": {},
   "source": [
    "#### Comparación de valores "
   ]
  },
  {
   "cell_type": "code",
   "execution_count": 106,
   "metadata": {},
   "outputs": [
    {
     "name": "stdout",
     "output_type": "stream",
     "text": [
      "True\n",
      "False\n"
     ]
    }
   ],
   "source": [
    "print(1 == 1 or 2 == 2)\n",
    "print(1 != 1 and 2 != 2)"
   ]
  }
 ],
 "metadata": {
  "kernelspec": {
   "display_name": "Python 3",
   "language": "python",
   "name": "python3"
  },
  "language_info": {
   "codemirror_mode": {
    "name": "ipython",
    "version": 3
   },
   "file_extension": ".py",
   "mimetype": "text/x-python",
   "name": "python",
   "nbconvert_exporter": "python",
   "pygments_lexer": "ipython3",
   "version": "3.7.6"
  }
 },
 "nbformat": 4,
 "nbformat_minor": 4
}
