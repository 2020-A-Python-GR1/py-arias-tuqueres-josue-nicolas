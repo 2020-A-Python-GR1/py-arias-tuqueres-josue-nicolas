{
 "cells": [
  {
   "cell_type": "markdown",
   "metadata": {},
   "source": [
    "# JupyterLab\n",
    "\n",
    "```javascript\n",
    "var s = \"JavaScript syntax highlighting\";\n",
    "alert(s);\n",
    "```\n",
    " \n",
    "```python\n",
    "s = \"Python syntax highlighting\"\n",
    "print(s)\n",
    "```\n",
    " \n",
    "```\n",
    "No language indicated, so no syntax highlighting. \n",
    "But let's throw in a <b>tag</b>.\n",
    "```\n",
    "\n",
    "![alt text](https://github.com/adam-p/markdown-here/raw/master/src/common/images/icon48.png \"Logo Title Text 1\")"
   ]
  },
  {
   "cell_type": "code",
   "execution_count": 5,
   "metadata": {},
   "outputs": [
    {
     "name": "stdout",
     "output_type": "stream",
     "text": [
      "Hola Mundo\n"
     ]
    }
   ],
   "source": [
    "print(\"Hola Mundo\")"
   ]
  },
  {
   "cell_type": "code",
   "execution_count": 6,
   "metadata": {},
   "outputs": [
    {
     "name": "stdout",
     "output_type": "stream",
     "text": [
      "Hola Mundo\n"
     ]
    }
   ],
   "source": [
    "print(\"Hola Mundo\")"
   ]
  },
  {
   "cell_type": "code",
   "execution_count": 4,
   "metadata": {},
   "outputs": [
    {
     "name": "stdout",
     "output_type": "stream",
     "text": [
      "Hola Mundo\n"
     ]
    }
   ],
   "source": [
    "print(\"Hola Mundo\")"
   ]
  },
  {
   "cell_type": "markdown",
   "metadata": {},
   "source": [
    "# Python es no tipado!\n",
    "## Variables primitivas"
   ]
  },
  {
   "cell_type": "code",
   "execution_count": 2,
   "metadata": {},
   "outputs": [],
   "source": [
    "entero = 4\n",
    "decimales = 1.1\n",
    "nombre = \"Josue\"\n",
    "#no utilizar el estandar de camelCase\n",
    "segundo_nombre = \"Nicolas\" # segundoNombre --> MAL (Solo es pate de las buenas practicas)\n",
    "apellido = \"Arias\"\n",
    "casado = False\n",
    "estudiante = True\n",
    "hijos = None # en otros lenguajes se lo conoce como vacio o null\n"
   ]
  },
  {
   "cell_type": "markdown",
   "metadata": {},
   "source": [
    "### Para verificar el tipo de dato de una variable se utiliza type()"
   ]
  },
  {
   "cell_type": "code",
   "execution_count": 11,
   "metadata": {},
   "outputs": [
    {
     "name": "stdout",
     "output_type": "stream",
     "text": [
      "<class 'int'>\n",
      "<class 'float'>\n",
      "<class 'str'>\n",
      "<class 'str'>\n",
      "<class 'str'>\n",
      "<class 'bool'>\n",
      "<class 'bool'>\n",
      "<class 'NoneType'>\n"
     ]
    }
   ],
   "source": [
    "print(type(entero))\n",
    "print(type(decimales))\n",
    "print(type(nombre))\n",
    "print(type(segundo_nombre))\n",
    "print(type(apellido))\n",
    "print(type(casado))\n",
    "print(type(estudiante))\n",
    "print(type(hijos))"
   ]
  },
  {
   "cell_type": "markdown",
   "metadata": {},
   "source": [
    "### String con varias lineas"
   ]
  },
  {
   "cell_type": "code",
   "execution_count": 12,
   "metadata": {},
   "outputs": [
    {
     "name": "stdout",
     "output_type": "stream",
     "text": [
      "\n",
      "Tables aren't part of the core Markdown spec, but they are part of GFM and Markdown Here supports them. \n",
      "They are an easy way of adding tables to your email -- a task that would otherwise require copy-pasting \n",
      "from another application.\n",
      "\n"
     ]
    }
   ],
   "source": [
    "cadena_de_texto = \"\"\"\n",
    "Tables aren't part of the core Markdown spec, but they are part of GFM and Markdown Here supports them. \n",
    "They are an easy way of adding tables to your email -- a task that would otherwise require copy-pasting \n",
    "from another application.\n",
    "\"\"\"\n",
    "#Nota: de esta forma tambien se puede escribir comentarios con varias lineas\n",
    "print(cadena_de_texto)\n",
    "print(cadena_de_texto)"
   ]
  },
  {
   "cell_type": "markdown",
   "metadata": {},
   "source": [
    "### Al ser un lenguaje no tipado una variable puede cambiar de tipo"
   ]
  },
  {
   "cell_type": "code",
   "execution_count": 3,
   "metadata": {},
   "outputs": [
    {
     "name": "stdout",
     "output_type": "stream",
     "text": [
      "4\n",
      "Josue\n"
     ]
    }
   ],
   "source": [
    "print(entero)\n",
    "entero =decimales\n",
    "entero = hijos\n",
    "entero = casado\n",
    "entero = nombre\n",
    "print(entero)"
   ]
  },
  {
   "cell_type": "markdown",
   "metadata": {},
   "source": [
    "### Condiciones\n",
    "### Truty - Falsy"
   ]
  },
  {
   "cell_type": "code",
   "execution_count": 12,
   "metadata": {},
   "outputs": [
    {
     "name": "stdout",
     "output_type": "stream",
     "text": [
      "Falsy para \"\"\n",
      "Truty para \"Nicolas\"\n",
      "Falsy para None\n",
      "Truty para 1\n",
      "Falsy para 0\n",
      "Truty para -1\n",
      "Truty para 1.1\n",
      "Truty para -1.2\n",
      "Falsy para Tupla vacía\n",
      "Truty para Tupla con valores\n",
      "Falsy para Lista vacía\n",
      "Truty para Lista con valores\n",
      "Falsy para Diccionario vacía\n",
      "Truty para Diccionario con valores\n"
     ]
    }
   ],
   "source": [
    "tuplas = (1,2,3) # Arreglos que no se pueden modificar\n",
    "listas = [1,2,3] # Arreglos que se pueden modificar\n",
    "diccionario = {\n",
    "    \"Nombre\":\"Nicolas\"\n",
    "}\n",
    "\n",
    "# Para verificar si una variable esta vacía o si tiene un valor asignado (solo strings)\n",
    "\n",
    "if '': #Falsy\n",
    "    print('Truty para \"\"')\n",
    "else:\n",
    "    print('Falsy para \"\"')\n",
    "    \n",
    "if 'Nicolas': #Truty\n",
    "    print('Truty para \"Nicolas\"')\n",
    "else:\n",
    "    print('Falsy para \"Nicolas\"')\n",
    "    \n",
    "# None type\n",
    "variable = None\n",
    "if(variable):\n",
    "    print('Truty para None')\n",
    "else:\n",
    "    print('Falsy para None')\n",
    "\n",
    "# Numeros\n",
    "if(1):\n",
    "    print('Truty para 1')\n",
    "else:\n",
    "    print('Falsy para 1')\n",
    "if(0): #Falsy\n",
    "    print('Truty para 0')\n",
    "else:\n",
    "    print('Falsy para 0')\n",
    "if(-1): #Truty \n",
    "    print('Truty para -1')\n",
    "else: \n",
    "    print('Falsy para -1')\n",
    "    \n",
    "# Decimales\n",
    "if(1.1): #Truty\n",
    "    print('Truty para 1.1')\n",
    "else:\n",
    "    print('Falsy para 1.1')\n",
    "if(-1.2): #Truty\n",
    "    print('Truty para -1.2')\n",
    "else:\n",
    "    print('Falsy para -1.2')\n",
    "    \n",
    "# Tuplas\n",
    "if(()): #Falsy\n",
    "    print('Truty para Tupla vacía')\n",
    "else:\n",
    "    print('Falsy para Tupla vacía')\n",
    "if((1,2,3)): #Truty\n",
    "    print('Truty para Tupla con valores')\n",
    "else:\n",
    "    print('Falsy para Tuplas con valores')\n",
    "    \n",
    "# Lista\n",
    "if([]): #Falsy\n",
    "    print('Truty para Lista vacía')\n",
    "else:\n",
    "    print('Falsy para Lista vacía')\n",
    "if([1,2,3]): #Truty\n",
    "    print('Truty para Lista con valores')\n",
    "else:\n",
    "    print('Falsy para Lista con valores')\n",
    "\n",
    "# Diccionario\n",
    "if({}): #Falsy\n",
    "    print('Truty para Diccionario vacía')\n",
    "else:\n",
    "    print('Falsy para Diccionario vacía')\n",
    "if({\"nombre\": \"Nicolas\"}): #Truty\n",
    "    print('Truty para Diccionario con valores')\n",
    "else:\n",
    "    print('Falsy para Diccionario con valores')\n",
    "\n",
    "\n",
    "    "
   ]
  },
  {
   "cell_type": "markdown",
   "metadata": {},
   "source": [
    "### Listas"
   ]
  },
  {
   "cell_type": "code",
   "execution_count": 39,
   "metadata": {},
   "outputs": [],
   "source": [
    "arreglo = [1, 2, 3, 4, 5, 6, 7, 8, 9, 10] #Definición de un arreglo"
   ]
  },
  {
   "cell_type": "code",
   "execution_count": 42,
   "metadata": {},
   "outputs": [
    {
     "name": "stdout",
     "output_type": "stream",
     "text": [
      "[1, 2, 3]\n",
      "[6, 7, 8, 9, 10]\n",
      "[1, 2, 3, 4, 5, 6, 7]\n",
      "1\n",
      "[4, 5, 6, 7, 8]\n",
      "[3, 4, 5, 6, 7, 8]\n",
      "[7, 8, 9]\n",
      "[4, 5, 6, 7, 8, 9, 10]\n",
      "[1, 2, 3, 4, 5, 6, 7]\n",
      "[1, 2, 3, 4, 5, 6, 7, 8, 9, 10]\n"
     ]
    }
   ],
   "source": [
    "print(arreglo[0:3]) #[0:3] toma los valores del indice 0, 1 y 2 (el indice 3 se excluye)\n",
    "print(arreglo[5:]) #Hasta el final\n",
    "print(arreglo[:7]) #Desde el principio\n",
    "print(arreglo[-10]) #Indice negativo empieza FINAL\n",
    "print(arreglo[3:-2]) #Siempre omite el de  la derecha\n",
    "print(arreglo[-8:8])\n",
    "print(arreglo[-4:-1])\n",
    "print(arreglo[-7:])\n",
    "print(arreglo[:-3])\n",
    "print(arreglo[:]) #Toda la lista\n"
   ]
  },
  {
   "cell_type": "markdown",
   "metadata": {},
   "source": [
    "### Tuplas"
   ]
  },
  {
   "cell_type": "code",
   "execution_count": 43,
   "metadata": {},
   "outputs": [
    {
     "data": {
      "text/plain": [
       "(6, 7, 8, 9)"
      ]
     },
     "execution_count": 43,
     "metadata": {},
     "output_type": "execute_result"
    }
   ],
   "source": [
    "arregloTupla = (1,2,3,4,5,6,7,8,9,10)\n",
    "arregloTupla[5:9]"
   ]
  },
  {
   "cell_type": "markdown",
   "metadata": {},
   "source": [
    "### Diccionarios"
   ]
  },
  {
   "cell_type": "code",
   "execution_count": 46,
   "metadata": {},
   "outputs": [
    {
     "data": {
      "text/plain": [
       "'Nicolas'"
      ]
     },
     "execution_count": 46,
     "metadata": {},
     "output_type": "execute_result"
    }
   ],
   "source": [
    "diccionario = {\n",
    "    \"Nombre\":\"Nicolas\",\n",
    "    \"Apellido\":\"Arias\",\n",
    "    \"suelado\":1.2\n",
    "}\n",
    "diccionario[\"Nombre\"]"
   ]
  },
  {
   "cell_type": "markdown",
   "metadata": {},
   "source": [
    "#### In, forma de buscar un valor en un objeto (lista, tuplas, diccionarios)"
   ]
  },
  {
   "cell_type": "code",
   "execution_count": 62,
   "metadata": {},
   "outputs": [
    {
     "name": "stdout",
     "output_type": "stream",
     "text": [
      "True\n",
      "True\n"
     ]
    }
   ],
   "source": [
    "print(10 in arreglo)\n",
    "print(\"Nombre\" in diccionario) #Para diccionarios se debe trabajar con las llaves"
   ]
  },
  {
   "cell_type": "code",
   "execution_count": 63,
   "metadata": {},
   "outputs": [
    {
     "name": "stdout",
     "output_type": "stream",
     "text": [
      "<class 'bool'>\n"
     ]
    }
   ],
   "source": [
    "print(type(12 in arreglo))"
   ]
  },
  {
   "cell_type": "markdown",
   "metadata": {},
   "source": [
    "#### len, tamaño de un objeto (lista, tupla, diccionario)"
   ]
  },
  {
   "cell_type": "code",
   "execution_count": 64,
   "metadata": {},
   "outputs": [
    {
     "name": "stdout",
     "output_type": "stream",
     "text": [
      "10\n",
      "10\n",
      "0\n"
     ]
    }
   ],
   "source": [
    "print(len(arreglo))\n",
    "print(len(arregloTupla))\n",
    "print(len({}))"
   ]
  }
 ],
 "metadata": {
  "kernelspec": {
   "display_name": "Python 3",
   "language": "python",
   "name": "python3"
  },
  "language_info": {
   "codemirror_mode": {
    "name": "ipython",
    "version": 3
   },
   "file_extension": ".py",
   "mimetype": "text/x-python",
   "name": "python",
   "nbconvert_exporter": "python",
   "pygments_lexer": "ipython3",
   "version": "3.7.6"
  }
 },
 "nbformat": 4,
 "nbformat_minor": 4
}
